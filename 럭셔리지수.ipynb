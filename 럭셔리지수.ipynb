{
  "nbformat": 4,
  "nbformat_minor": 0,
  "metadata": {
    "colab": {
      "provenance": [],
      "authorship_tag": "ABX9TyOsezV4ZZfz3NfNk1JIGv5T"
    },
    "kernelspec": {
      "name": "python3",
      "display_name": "Python 3"
    },
    "language_info": {
      "name": "python"
    }
  },
  "cells": [
    {
      "cell_type": "markdown",
      "source": [
        "####**5) 럭셔리지수**"
      ],
      "metadata": {
        "id": "mFAyxc-piymP"
      }
    },
    {
      "cell_type": "code",
      "execution_count": null,
      "metadata": {
        "id": "c52ac395"
      },
      "outputs": [],
      "source": [
        "#럭셔리지수"
      ]
    },
    {
      "cell_type": "code",
      "execution_count": null,
      "metadata": {
        "id": "acc224bb"
      },
      "outputs": [],
      "source": [
        "lxr=data[['백화점이용금액','총자산평가금액','자가거주여부', '라이프스테이지', \"카드소비금액\",\"하이엔드명품_정보\",\"하이엔드백화점_정보\"]]\n",
        "lxr=pd.DataFrame(lxr)"
      ]
    },
    {
      "cell_type": "code",
      "execution_count": null,
      "metadata": {
        "id": "4a72fd78",
        "outputId": "d9ea05ff-3944-4b43-ba5d-dd47a64143c9"
      },
      "outputs": [
        {
          "data": {
            "text/html": [
              "<div>\n",
              "<style scoped>\n",
              "    .dataframe tbody tr th:only-of-type {\n",
              "        vertical-align: middle;\n",
              "    }\n",
              "\n",
              "    .dataframe tbody tr th {\n",
              "        vertical-align: top;\n",
              "    }\n",
              "\n",
              "    .dataframe thead th {\n",
              "        text-align: right;\n",
              "    }\n",
              "</style>\n",
              "<table border=\"1\" class=\"dataframe\">\n",
              "  <thead>\n",
              "    <tr style=\"text-align: right;\">\n",
              "      <th></th>\n",
              "      <th>백화점이용금액</th>\n",
              "      <th>총자산평가금액</th>\n",
              "      <th>자가거주여부</th>\n",
              "      <th>라이프스테이지</th>\n",
              "      <th>카드소비금액</th>\n",
              "      <th>하이엔드명품_정보</th>\n",
              "      <th>하이엔드백화점_정보</th>\n",
              "    </tr>\n",
              "  </thead>\n",
              "  <tbody>\n",
              "    <tr>\n",
              "      <th>0</th>\n",
              "      <td>449000</td>\n",
              "      <td>9607630</td>\n",
              "      <td>9</td>\n",
              "      <td>2</td>\n",
              "      <td>194000</td>\n",
              "      <td>2</td>\n",
              "      <td>19</td>\n",
              "    </tr>\n",
              "    <tr>\n",
              "      <th>1</th>\n",
              "      <td>1433000</td>\n",
              "      <td>7744560</td>\n",
              "      <td>8</td>\n",
              "      <td>5</td>\n",
              "      <td>49300</td>\n",
              "      <td>0</td>\n",
              "      <td>3</td>\n",
              "    </tr>\n",
              "    <tr>\n",
              "      <th>2</th>\n",
              "      <td>330000</td>\n",
              "      <td>10609180</td>\n",
              "      <td>11</td>\n",
              "      <td>4</td>\n",
              "      <td>196200</td>\n",
              "      <td>0</td>\n",
              "      <td>4</td>\n",
              "    </tr>\n",
              "    <tr>\n",
              "      <th>3</th>\n",
              "      <td>1610000</td>\n",
              "      <td>11066770</td>\n",
              "      <td>2</td>\n",
              "      <td>1</td>\n",
              "      <td>154400</td>\n",
              "      <td>1</td>\n",
              "      <td>94</td>\n",
              "    </tr>\n",
              "    <tr>\n",
              "      <th>4</th>\n",
              "      <td>1010000</td>\n",
              "      <td>27984730</td>\n",
              "      <td>21</td>\n",
              "      <td>3</td>\n",
              "      <td>551000</td>\n",
              "      <td>0</td>\n",
              "      <td>31</td>\n",
              "    </tr>\n",
              "    <tr>\n",
              "      <th>...</th>\n",
              "      <td>...</td>\n",
              "      <td>...</td>\n",
              "      <td>...</td>\n",
              "      <td>...</td>\n",
              "      <td>...</td>\n",
              "      <td>...</td>\n",
              "      <td>...</td>\n",
              "    </tr>\n",
              "    <tr>\n",
              "      <th>434699</th>\n",
              "      <td>1074000</td>\n",
              "      <td>11207130</td>\n",
              "      <td>5</td>\n",
              "      <td>5</td>\n",
              "      <td>53400</td>\n",
              "      <td>0</td>\n",
              "      <td>0</td>\n",
              "    </tr>\n",
              "    <tr>\n",
              "      <th>434700</th>\n",
              "      <td>215000</td>\n",
              "      <td>16956640</td>\n",
              "      <td>9</td>\n",
              "      <td>4</td>\n",
              "      <td>166300</td>\n",
              "      <td>0</td>\n",
              "      <td>32</td>\n",
              "    </tr>\n",
              "    <tr>\n",
              "      <th>434701</th>\n",
              "      <td>3570000</td>\n",
              "      <td>17045770</td>\n",
              "      <td>6</td>\n",
              "      <td>3</td>\n",
              "      <td>231300</td>\n",
              "      <td>2</td>\n",
              "      <td>87</td>\n",
              "    </tr>\n",
              "    <tr>\n",
              "      <th>434702</th>\n",
              "      <td>5798000</td>\n",
              "      <td>5612160</td>\n",
              "      <td>3</td>\n",
              "      <td>2</td>\n",
              "      <td>89700</td>\n",
              "      <td>0</td>\n",
              "      <td>94</td>\n",
              "    </tr>\n",
              "    <tr>\n",
              "      <th>434703</th>\n",
              "      <td>966000</td>\n",
              "      <td>12884650</td>\n",
              "      <td>0</td>\n",
              "      <td>1</td>\n",
              "      <td>157100</td>\n",
              "      <td>25</td>\n",
              "      <td>148</td>\n",
              "    </tr>\n",
              "  </tbody>\n",
              "</table>\n",
              "<p>434704 rows × 7 columns</p>\n",
              "</div>"
            ],
            "text/plain": [
              "        백화점이용금액   총자산평가금액  자가거주여부  라이프스테이지  카드소비금액  하이엔드명품_정보  하이엔드백화점_정보\n",
              "0        449000   9607630       9        2  194000          2          19\n",
              "1       1433000   7744560       8        5   49300          0           3\n",
              "2        330000  10609180      11        4  196200          0           4\n",
              "3       1610000  11066770       2        1  154400          1          94\n",
              "4       1010000  27984730      21        3  551000          0          31\n",
              "...         ...       ...     ...      ...     ...        ...         ...\n",
              "434699  1074000  11207130       5        5   53400          0           0\n",
              "434700   215000  16956640       9        4  166300          0          32\n",
              "434701  3570000  17045770       6        3  231300          2          87\n",
              "434702  5798000   5612160       3        2   89700          0          94\n",
              "434703   966000  12884650       0        1  157100         25         148\n",
              "\n",
              "[434704 rows x 7 columns]"
            ]
          },
          "execution_count": 138,
          "metadata": {},
          "output_type": "execute_result"
        }
      ],
      "source": [
        "lxr"
      ]
    },
    {
      "cell_type": "code",
      "execution_count": null,
      "metadata": {
        "id": "b3e20d8c"
      },
      "outputs": [],
      "source": [
        "condition_0=lxr[lxr.카드소비금액==0].index\n",
        "lxr.drop(condition_0, inplace=True)"
      ]
    },
    {
      "cell_type": "code",
      "execution_count": null,
      "metadata": {
        "id": "ab7fde90",
        "outputId": "205c2000-d7a0-47a1-d75a-c911b17f2a38"
      },
      "outputs": [
        {
          "data": {
            "text/html": [
              "<div>\n",
              "<style scoped>\n",
              "    .dataframe tbody tr th:only-of-type {\n",
              "        vertical-align: middle;\n",
              "    }\n",
              "\n",
              "    .dataframe tbody tr th {\n",
              "        vertical-align: top;\n",
              "    }\n",
              "\n",
              "    .dataframe thead th {\n",
              "        text-align: right;\n",
              "    }\n",
              "</style>\n",
              "<table border=\"1\" class=\"dataframe\">\n",
              "  <thead>\n",
              "    <tr style=\"text-align: right;\">\n",
              "      <th></th>\n",
              "      <th>백화점이용금액</th>\n",
              "      <th>총자산평가금액</th>\n",
              "      <th>자가거주여부</th>\n",
              "      <th>라이프스테이지</th>\n",
              "      <th>카드소비금액</th>\n",
              "      <th>하이엔드명품_정보</th>\n",
              "      <th>하이엔드백화점_정보</th>\n",
              "    </tr>\n",
              "  </thead>\n",
              "  <tbody>\n",
              "    <tr>\n",
              "      <th>0</th>\n",
              "      <td>449000</td>\n",
              "      <td>9607630</td>\n",
              "      <td>9</td>\n",
              "      <td>2</td>\n",
              "      <td>194000</td>\n",
              "      <td>2</td>\n",
              "      <td>19</td>\n",
              "    </tr>\n",
              "    <tr>\n",
              "      <th>1</th>\n",
              "      <td>1433000</td>\n",
              "      <td>7744560</td>\n",
              "      <td>8</td>\n",
              "      <td>5</td>\n",
              "      <td>49300</td>\n",
              "      <td>0</td>\n",
              "      <td>3</td>\n",
              "    </tr>\n",
              "    <tr>\n",
              "      <th>2</th>\n",
              "      <td>330000</td>\n",
              "      <td>10609180</td>\n",
              "      <td>11</td>\n",
              "      <td>4</td>\n",
              "      <td>196200</td>\n",
              "      <td>0</td>\n",
              "      <td>4</td>\n",
              "    </tr>\n",
              "    <tr>\n",
              "      <th>3</th>\n",
              "      <td>1610000</td>\n",
              "      <td>11066770</td>\n",
              "      <td>2</td>\n",
              "      <td>1</td>\n",
              "      <td>154400</td>\n",
              "      <td>1</td>\n",
              "      <td>94</td>\n",
              "    </tr>\n",
              "    <tr>\n",
              "      <th>4</th>\n",
              "      <td>1010000</td>\n",
              "      <td>27984730</td>\n",
              "      <td>21</td>\n",
              "      <td>3</td>\n",
              "      <td>551000</td>\n",
              "      <td>0</td>\n",
              "      <td>31</td>\n",
              "    </tr>\n",
              "    <tr>\n",
              "      <th>...</th>\n",
              "      <td>...</td>\n",
              "      <td>...</td>\n",
              "      <td>...</td>\n",
              "      <td>...</td>\n",
              "      <td>...</td>\n",
              "      <td>...</td>\n",
              "      <td>...</td>\n",
              "    </tr>\n",
              "    <tr>\n",
              "      <th>434205</th>\n",
              "      <td>1074000</td>\n",
              "      <td>11207130</td>\n",
              "      <td>5</td>\n",
              "      <td>5</td>\n",
              "      <td>53400</td>\n",
              "      <td>0</td>\n",
              "      <td>0</td>\n",
              "    </tr>\n",
              "    <tr>\n",
              "      <th>434206</th>\n",
              "      <td>215000</td>\n",
              "      <td>16956640</td>\n",
              "      <td>9</td>\n",
              "      <td>4</td>\n",
              "      <td>166300</td>\n",
              "      <td>0</td>\n",
              "      <td>32</td>\n",
              "    </tr>\n",
              "    <tr>\n",
              "      <th>434207</th>\n",
              "      <td>3570000</td>\n",
              "      <td>17045770</td>\n",
              "      <td>6</td>\n",
              "      <td>3</td>\n",
              "      <td>231300</td>\n",
              "      <td>2</td>\n",
              "      <td>87</td>\n",
              "    </tr>\n",
              "    <tr>\n",
              "      <th>434208</th>\n",
              "      <td>5798000</td>\n",
              "      <td>5612160</td>\n",
              "      <td>3</td>\n",
              "      <td>2</td>\n",
              "      <td>89700</td>\n",
              "      <td>0</td>\n",
              "      <td>94</td>\n",
              "    </tr>\n",
              "    <tr>\n",
              "      <th>434209</th>\n",
              "      <td>966000</td>\n",
              "      <td>12884650</td>\n",
              "      <td>0</td>\n",
              "      <td>1</td>\n",
              "      <td>157100</td>\n",
              "      <td>25</td>\n",
              "      <td>148</td>\n",
              "    </tr>\n",
              "  </tbody>\n",
              "</table>\n",
              "<p>434210 rows × 7 columns</p>\n",
              "</div>"
            ],
            "text/plain": [
              "        백화점이용금액   총자산평가금액  자가거주여부  라이프스테이지  카드소비금액  하이엔드명품_정보  하이엔드백화점_정보\n",
              "0        449000   9607630       9        2  194000          2          19\n",
              "1       1433000   7744560       8        5   49300          0           3\n",
              "2        330000  10609180      11        4  196200          0           4\n",
              "3       1610000  11066770       2        1  154400          1          94\n",
              "4       1010000  27984730      21        3  551000          0          31\n",
              "...         ...       ...     ...      ...     ...        ...         ...\n",
              "434205  1074000  11207130       5        5   53400          0           0\n",
              "434206   215000  16956640       9        4  166300          0          32\n",
              "434207  3570000  17045770       6        3  231300          2          87\n",
              "434208  5798000   5612160       3        2   89700          0          94\n",
              "434209   966000  12884650       0        1  157100         25         148\n",
              "\n",
              "[434210 rows x 7 columns]"
            ]
          },
          "execution_count": 140,
          "metadata": {},
          "output_type": "execute_result"
        }
      ],
      "source": [
        "lxr.reset_index(drop=True, inplace=True)\n",
        "lxr"
      ]
    },
    {
      "cell_type": "code",
      "execution_count": null,
      "metadata": {
        "id": "cda876f1",
        "outputId": "80838ace-9701-47b7-f020-d295f7fff82d"
      },
      "outputs": [
        {
          "data": {
            "text/plain": [
              "226937"
            ]
          },
          "execution_count": 141,
          "metadata": {},
          "output_type": "execute_result"
        }
      ],
      "source": [
        " len(lxr[lxr.하이엔드명품_정보==0]  )   ## 앱이용"
      ]
    },
    {
      "cell_type": "code",
      "execution_count": null,
      "metadata": {
        "id": "8adf6228",
        "outputId": "c97d272b-d1d6-42d3-d103-1e694363090f"
      },
      "outputs": [
        {
          "data": {
            "text/plain": [
              "99283"
            ]
          },
          "execution_count": 142,
          "metadata": {},
          "output_type": "execute_result"
        }
      ],
      "source": [
        " len(lxr[lxr.하이엔드백화점_정보==0]  )   ## 앱이용"
      ]
    },
    {
      "cell_type": "code",
      "execution_count": null,
      "metadata": {
        "id": "8691f85b",
        "outputId": "af2e2386-f2f4-44b8-ef04-9a6a3a8f5621"
      },
      "outputs": [
        {
          "data": {
            "text/plain": [
              "93664"
            ]
          },
          "execution_count": 143,
          "metadata": {},
          "output_type": "execute_result"
        }
      ],
      "source": [
        "len(lxr[(lxr.하이엔드명품_정보==0) &(lxr.하이엔드백화점_정보==0) ])"
      ]
    },
    {
      "cell_type": "code",
      "execution_count": null,
      "metadata": {
        "id": "014018a3",
        "outputId": "ff15529f-fde1-462e-9f5c-adf219070a35"
      },
      "outputs": [
        {
          "name": "stdout",
          "output_type": "stream",
          "text": [
            "93664 141623.9269409805\n"
          ]
        }
      ],
      "source": [
        "lxr_00=lxr[(lxr.하이엔드명품_정보==0) &(lxr.하이엔드백화점_정보==0) ]\n",
        "print(len(lxr_00),    lxr_00.백화점이용금액.sum()/len(lxr_00))\n",
        "\n",
        "a=lxr_00.백화점이용금액.sum()/94083"
      ]
    },
    {
      "cell_type": "code",
      "execution_count": null,
      "metadata": {
        "id": "b17709fa",
        "outputId": "01722a6c-e895-463b-b3f1-c6db009354ed"
      },
      "outputs": [
        {
          "name": "stdout",
          "output_type": "stream",
          "text": [
            "138892 793886.2402586183\n"
          ]
        }
      ],
      "source": [
        "lxr_01=lxr[((lxr.하이엔드명품_정보!=0) &(lxr.하이엔드백화점_정보==0)) ]\n",
        "lxr_10=lxr[((lxr.하이엔드명품_정보==0) & (lxr.하이엔드백화점_정보!=0))]\n",
        "lxr1=pd.concat([lxr_01,lxr_10])\n",
        "print(len(lxr1),lxr1.백화점이용금액.sum()/len(lxr1))\n",
        "\n",
        "b=lxr1.백화점이용금액.sum()/len(lxr1)"
      ]
    },
    {
      "cell_type": "code",
      "execution_count": null,
      "metadata": {
        "id": "7444c5ad",
        "outputId": "fda79d1f-4982-4b92-e22c-125672a0a9aa"
      },
      "outputs": [
        {
          "name": "stdout",
          "output_type": "stream",
          "text": [
            "201654 3733997.3857796025\n",
            "140993.20273588214 793886.2402586183 3733997.3857796025\n"
          ]
        }
      ],
      "source": [
        "lxr_11=lxr[(lxr.하이엔드명품_정보!=0) &(lxr.하이엔드백화점_정보!=0) ]\n",
        "print(len(lxr_11),lxr_11.백화점이용금액.sum()/len(lxr_11))          ###확실히 앱을 통해 집계된 사람들이 명품소비를 하고있다\n",
        "                                                                  ###평균적으로 십만원정도 소비하는 것은 실제로 명품을 \n",
        "                                                                   ### 구매하고 있지는 않을 것으로 보여지기에 의미 확실\n",
        "c=lxr_11.백화점이용금액.sum()/len(lxr_11) \n",
        "print(a,b,c)"
      ]
    },
    {
      "cell_type": "code",
      "execution_count": null,
      "metadata": {
        "id": "72e13073",
        "outputId": "663c7d91-485a-470c-8970-cc9b50dffcb7"
      },
      "outputs": [
        {
          "data": {
            "text/plain": [
              "<matplotlib.legend.Legend at 0x24e373a0160>"
            ]
          },
          "execution_count": 147,
          "metadata": {},
          "output_type": "execute_result"
        },
        {
          "data": {
            "image/png": "[encoded data removed]",
            "text/plain": [
              "<Figure size 576x576 with 1 Axes>"
            ]
          },
          "metadata": {},
          "output_type": "display_data"
        }
      ],
      "source": [
        "lxr_sum=[\"집계0\",\"집계1\",\"집계2\"]\n",
        "values=[a,b,c]\n",
        "\n",
        "fig=plt.figure(figsize=(8,8))\n",
        "fig.set_facecolor(\"white\")\n",
        "ax=fig.add_subplot()\n",
        "\n",
        "pie=ax.pie(values,\n",
        "          startangle=90,\n",
        "          counterclock=False,\n",
        "          autopct=lambda p :'{:.2f}%'.format(p),\n",
        "         \n",
        "          colors=[\"bisque\",\"chocolate\",\"cadetblue\"])\n",
        "plt.title(\"럭셔리정보검색 집계합에 따른 평균 백화점소비금액(천원)\", fontsize=22)\n",
        "plt.legend(pie[0], lxr_sum)   "
      ]
    },
    {
      "cell_type": "code",
      "execution_count": null,
      "metadata": {
        "id": "c6be1fcd"
      },
      "outputs": [],
      "source": [
        "condition=(lxr.하이엔드명품_정보!=0)|(lxr.하이엔드백화점_정보!=0)\n",
        "lxr_non=lxr.loc[condition] "
      ]
    },
    {
      "cell_type": "code",
      "execution_count": null,
      "metadata": {
        "id": "decf2e5f"
      },
      "outputs": [],
      "source": [
        "condition2=(((lxr.하이엔드명품_정보)==0)*(((lxr.하이엔드백화점_정보)==0)))\n",
        "lxr_zeros=lxr.loc[condition2]"
      ]
    },
    {
      "cell_type": "code",
      "execution_count": null,
      "metadata": {
        "id": "a808bb9f",
        "outputId": "59cc7f38-c038-425f-ec2f-25be335deda0"
      },
      "outputs": [
        {
          "data": {
            "text/plain": [
              "340546"
            ]
          },
          "execution_count": 150,
          "metadata": {},
          "output_type": "execute_result"
        }
      ],
      "source": [
        "len(lxr_non)"
      ]
    },
    {
      "cell_type": "code",
      "execution_count": null,
      "metadata": {
        "id": "6344d4d8",
        "outputId": "6a7888f3-ea6e-415a-da29-01c7d6abe47d"
      },
      "outputs": [
        {
          "data": {
            "text/plain": [
              "93664"
            ]
          },
          "execution_count": 151,
          "metadata": {},
          "output_type": "execute_result"
        }
      ],
      "source": [
        "len(lxr_zeros)"
      ]
    },
    {
      "cell_type": "code",
      "execution_count": null,
      "metadata": {
        "id": "26b9a18c",
        "outputId": "c3dde18e-103c-4937-9160-38f5f6a90805"
      },
      "outputs": [
        {
          "name": "stderr",
          "output_type": "stream",
          "text": [
            "<ipython-input-152-724bccbbdf92>:1: SettingWithCopyWarning:\n",
            "\n",
            "\n",
            "A value is trying to be set on a copy of a slice from a DataFrame.\n",
            "Try using .loc[row_indexer,col_indexer] = value instead\n",
            "\n",
            "See the caveats in the documentation: https://pandas.pydata.org/pandas-docs/stable/user_guide/indexing.html#returning-a-view-versus-a-copy\n",
            "\n"
          ]
        }
      ],
      "source": [
        "lxr_zeros[\"럭셔리지수\"]=1"
      ]
    },
    {
      "cell_type": "code",
      "execution_count": null,
      "metadata": {
        "id": "a987ac25"
      },
      "outputs": [],
      "source": [
        "aa=lxr_non[\"하이엔드백화점_정보\"]\n",
        "aa=aa.values.reshape(-1,1)\n",
        "bb=lxr_non[\"하이엔드명품_정보\"]\n",
        "bb=bb.values.reshape(-1,1)"
      ]
    },
    {
      "cell_type": "code",
      "execution_count": null,
      "metadata": {
        "id": "492e614d"
      },
      "outputs": [],
      "source": [
        "from sklearn.preprocessing import MinMaxScaler\n",
        "\n",
        "sc=MinMaxScaler()\n",
        "a_scaled=sc.fit_transform(aa)\n",
        "b_scaled=sc.fit_transform(bb)"
      ]
    },
    {
      "cell_type": "code",
      "execution_count": null,
      "metadata": {
        "id": "1b3bf9b3",
        "outputId": "c3e6acd9-9e51-4e69-b8fc-fbcb00d6c236"
      },
      "outputs": [
        {
          "name": "stderr",
          "output_type": "stream",
          "text": [
            "<ipython-input-155-a2cda9443f34>:1: SettingWithCopyWarning:\n",
            "\n",
            "\n",
            "A value is trying to be set on a copy of a slice from a DataFrame.\n",
            "Try using .loc[row_indexer,col_indexer] = value instead\n",
            "\n",
            "See the caveats in the documentation: https://pandas.pydata.org/pandas-docs/stable/user_guide/indexing.html#returning-a-view-versus-a-copy\n",
            "\n",
            "<ipython-input-155-a2cda9443f34>:2: SettingWithCopyWarning:\n",
            "\n",
            "\n",
            "A value is trying to be set on a copy of a slice from a DataFrame.\n",
            "Try using .loc[row_indexer,col_indexer] = value instead\n",
            "\n",
            "See the caveats in the documentation: https://pandas.pydata.org/pandas-docs/stable/user_guide/indexing.html#returning-a-view-versus-a-copy\n",
            "\n"
          ]
        }
      ],
      "source": [
        "lxr_non.하이엔드명품_정보=a_scaled\n",
        "lxr_non.하이엔드백화점_정보=b_scaled"
      ]
    },
    {
      "cell_type": "code",
      "execution_count": null,
      "metadata": {
        "id": "ea0713df",
        "outputId": "8bb8a207-c240-4faa-b1e5-333581862935"
      },
      "outputs": [
        {
          "name": "stderr",
          "output_type": "stream",
          "text": [
            "<ipython-input-156-42e7d4650563>:1: SettingWithCopyWarning:\n",
            "\n",
            "\n",
            "A value is trying to be set on a copy of a slice from a DataFrame.\n",
            "Try using .loc[row_indexer,col_indexer] = value instead\n",
            "\n",
            "See the caveats in the documentation: https://pandas.pydata.org/pandas-docs/stable/user_guide/indexing.html#returning-a-view-versus-a-copy\n",
            "\n"
          ]
        }
      ],
      "source": [
        "lxr_non[\"럭셔리지수_C\"]=(lxr_non[\"백화점이용금액\"]/lxr_non[\"카드소비금액\"]*10)\n"
      ]
    },
    {
      "cell_type": "code",
      "execution_count": null,
      "metadata": {
        "id": "385085d7",
        "outputId": "71d5ace8-4c92-4300-e916-ffd6794dfb29"
      },
      "outputs": [
        {
          "data": {
            "text/plain": [
              "count   340546.00000\n",
              "mean        75.68568\n",
              "std        577.10500\n",
              "min          0.00000\n",
              "10%          0.00000\n",
              "30%         12.69015\n",
              "50%         34.41911\n",
              "75%         87.02642\n",
              "90%        179.44059\n",
              "max     311255.15000\n",
              "Name: 럭셔리지수_C, dtype: float64"
            ]
          },
          "execution_count": 157,
          "metadata": {},
          "output_type": "execute_result"
        }
      ],
      "source": [
        "lxr_non.럭셔리지수_C.describe(percentiles=[.10,.30,.75,.90])"
      ]
    },
    {
      "cell_type": "code",
      "execution_count": null,
      "metadata": {
        "id": "10399418",
        "outputId": "3ec0551c-684c-4aa6-f0a4-7aaa689718f9"
      },
      "outputs": [
        {
          "name": "stderr",
          "output_type": "stream",
          "text": [
            "<ipython-input-158-6c4b62bdff53>:1: SettingWithCopyWarning:\n",
            "\n",
            "\n",
            "A value is trying to be set on a copy of a slice from a DataFrame.\n",
            "Try using .loc[row_indexer,col_indexer] = value instead\n",
            "\n",
            "See the caveats in the documentation: https://pandas.pydata.org/pandas-docs/stable/user_guide/indexing.html#returning-a-view-versus-a-copy\n",
            "\n",
            "<ipython-input-158-6c4b62bdff53>:3: SettingWithCopyWarning:\n",
            "\n",
            "\n",
            "A value is trying to be set on a copy of a slice from a DataFrame.\n",
            "Try using .loc[row_indexer,col_indexer] = value instead\n",
            "\n",
            "See the caveats in the documentation: https://pandas.pydata.org/pandas-docs/stable/user_guide/indexing.html#returning-a-view-versus-a-copy\n",
            "\n"
          ]
        }
      ],
      "source": [
        "lxr_non[\"럭셔리지수\"]=np.log((a_scaled+b_scaled)*1000+1)\n",
        "\n",
        "lxr_non[\"럭셔리지수_C\"]=np.log(lxr_non.럭셔리지수_C+1)"
      ]
    },
    {
      "cell_type": "code",
      "execution_count": null,
      "metadata": {
        "id": "d7c62fce",
        "outputId": "5e817b06-148d-499c-ec86-7ef6112b6808"
      },
      "outputs": [
        {
          "data": {
            "text/plain": [
              "0        3.18405\n",
              "1        5.67562\n",
              "2        2.88030\n",
              "3        4.65657\n",
              "4        2.96167\n",
              "           ...  \n",
              "434204   3.39406\n",
              "434206   2.63393\n",
              "434207   5.04565\n",
              "434208   6.47293\n",
              "434209   4.13500\n",
              "Name: 럭셔리지수_C, Length: 340546, dtype: float64"
            ]
          },
          "execution_count": 159,
          "metadata": {},
          "output_type": "execute_result"
        }
      ],
      "source": [
        "c=lxr_non[\"럭셔리지수_C\"]\n",
        "c"
      ]
    },
    {
      "cell_type": "code",
      "execution_count": null,
      "metadata": {
        "id": "c5ab9b7a",
        "outputId": "e6f03752-fc73-4011-c819-ff95cad12150"
      },
      "outputs": [
        {
          "name": "stderr",
          "output_type": "stream",
          "text": [
            "C:\\ProgramData\\Anaconda3\\lib\\site-packages\\seaborn\\distributions.py:2557: FutureWarning:\n",
            "\n",
            "`distplot` is a deprecated function and will be removed in a future version. Please adapt your code to use either `displot` (a figure-level function with similar flexibility) or `histplot` (an axes-level function for histograms).\n",
            "\n"
          ]
        },
        {
          "data": {
            "text/plain": [
              "<AxesSubplot:xlabel='럭셔리지수_C', ylabel='Density'>"
            ]
          },
          "execution_count": 160,
          "metadata": {},
          "output_type": "execute_result"
        },
        {
          "data": {
            "image/png": "[encoded data removed]",
            "text/plain": [
              "<Figure size 432x288 with 1 Axes>"
            ]
          },
          "metadata": {
            "needs_background": "light"
          },
          "output_type": "display_data"
        }
      ],
      "source": [
        "sns.distplot(lxr_non.럭셔리지수_C, bins=100)  "
      ]
    },
    {
      "cell_type": "code",
      "execution_count": null,
      "metadata": {
        "id": "1bfe9de0",
        "outputId": "1c58f69b-e511-4e2a-a6f2-498952c06aa0"
      },
      "outputs": [
        {
          "name": "stderr",
          "output_type": "stream",
          "text": [
            "C:\\ProgramData\\Anaconda3\\lib\\site-packages\\seaborn\\distributions.py:2557: FutureWarning:\n",
            "\n",
            "`distplot` is a deprecated function and will be removed in a future version. Please adapt your code to use either `displot` (a figure-level function with similar flexibility) or `histplot` (an axes-level function for histograms).\n",
            "\n"
          ]
        },
        {
          "data": {
            "text/plain": [
              "<AxesSubplot:xlabel='럭셔리지수', ylabel='Density'>"
            ]
          },
          "execution_count": 161,
          "metadata": {},
          "output_type": "execute_result"
        },
        {
          "data": {
            "image/png": "[encoded data removed]",
            "text/plain": [
              "<Figure size 432x288 with 1 Axes>"
            ]
          },
          "metadata": {
            "needs_background": "light"
          },
          "output_type": "display_data"
        }
      ],
      "source": [
        "sns.distplot(lxr_non.럭셔리지수, bins=100) "
      ]
    },
    {
      "cell_type": "code",
      "execution_count": null,
      "metadata": {
        "scrolled": true,
        "id": "925412a9",
        "outputId": "bbcc58f8-4331-46a3-e63e-72a2103e1d37"
      },
      "outputs": [
        {
          "name": "stderr",
          "output_type": "stream",
          "text": [
            "<ipython-input-162-88c2d51c82c2>:2: SettingWithCopyWarning:\n",
            "\n",
            "\n",
            "A value is trying to be set on a copy of a slice from a DataFrame\n",
            "\n",
            "See the caveats in the documentation: https://pandas.pydata.org/pandas-docs/stable/user_guide/indexing.html#returning-a-view-versus-a-copy\n",
            "\n",
            "<ipython-input-162-88c2d51c82c2>:3: SettingWithCopyWarning:\n",
            "\n",
            "\n",
            "A value is trying to be set on a copy of a slice from a DataFrame\n",
            "\n",
            "See the caveats in the documentation: https://pandas.pydata.org/pandas-docs/stable/user_guide/indexing.html#returning-a-view-versus-a-copy\n",
            "\n",
            "<ipython-input-162-88c2d51c82c2>:4: SettingWithCopyWarning:\n",
            "\n",
            "\n",
            "A value is trying to be set on a copy of a slice from a DataFrame\n",
            "\n",
            "See the caveats in the documentation: https://pandas.pydata.org/pandas-docs/stable/user_guide/indexing.html#returning-a-view-versus-a-copy\n",
            "\n",
            "<ipython-input-162-88c2d51c82c2>:5: SettingWithCopyWarning:\n",
            "\n",
            "\n",
            "A value is trying to be set on a copy of a slice from a DataFrame\n",
            "\n",
            "See the caveats in the documentation: https://pandas.pydata.org/pandas-docs/stable/user_guide/indexing.html#returning-a-view-versus-a-copy\n",
            "\n",
            "<ipython-input-162-88c2d51c82c2>:6: SettingWithCopyWarning:\n",
            "\n",
            "\n",
            "A value is trying to be set on a copy of a slice from a DataFrame\n",
            "\n",
            "See the caveats in the documentation: https://pandas.pydata.org/pandas-docs/stable/user_guide/indexing.html#returning-a-view-versus-a-copy\n",
            "\n",
            "<ipython-input-162-88c2d51c82c2>:8: SettingWithCopyWarning:\n",
            "\n",
            "\n",
            "A value is trying to be set on a copy of a slice from a DataFrame\n",
            "\n",
            "See the caveats in the documentation: https://pandas.pydata.org/pandas-docs/stable/user_guide/indexing.html#returning-a-view-versus-a-copy\n",
            "\n",
            "<ipython-input-162-88c2d51c82c2>:9: SettingWithCopyWarning:\n",
            "\n",
            "\n",
            "A value is trying to be set on a copy of a slice from a DataFrame\n",
            "\n",
            "See the caveats in the documentation: https://pandas.pydata.org/pandas-docs/stable/user_guide/indexing.html#returning-a-view-versus-a-copy\n",
            "\n",
            "<ipython-input-162-88c2d51c82c2>:10: SettingWithCopyWarning:\n",
            "\n",
            "\n",
            "A value is trying to be set on a copy of a slice from a DataFrame\n",
            "\n",
            "See the caveats in the documentation: https://pandas.pydata.org/pandas-docs/stable/user_guide/indexing.html#returning-a-view-versus-a-copy\n",
            "\n",
            "<ipython-input-162-88c2d51c82c2>:11: SettingWithCopyWarning:\n",
            "\n",
            "\n",
            "A value is trying to be set on a copy of a slice from a DataFrame\n",
            "\n",
            "See the caveats in the documentation: https://pandas.pydata.org/pandas-docs/stable/user_guide/indexing.html#returning-a-view-versus-a-copy\n",
            "\n",
            "<ipython-input-162-88c2d51c82c2>:12: SettingWithCopyWarning:\n",
            "\n",
            "\n",
            "A value is trying to be set on a copy of a slice from a DataFrame\n",
            "\n",
            "See the caveats in the documentation: https://pandas.pydata.org/pandas-docs/stable/user_guide/indexing.html#returning-a-view-versus-a-copy\n",
            "\n"
          ]
        },
        {
          "data": {
            "text/html": [
              "<div>\n",
              "<style scoped>\n",
              "    .dataframe tbody tr th:only-of-type {\n",
              "        vertical-align: middle;\n",
              "    }\n",
              "\n",
              "    .dataframe tbody tr th {\n",
              "        vertical-align: top;\n",
              "    }\n",
              "\n",
              "    .dataframe thead th {\n",
              "        text-align: right;\n",
              "    }\n",
              "</style>\n",
              "<table border=\"1\" class=\"dataframe\">\n",
              "  <thead>\n",
              "    <tr style=\"text-align: right;\">\n",
              "      <th></th>\n",
              "      <th>백화점이용금액</th>\n",
              "      <th>총자산평가금액</th>\n",
              "      <th>자가거주여부</th>\n",
              "      <th>라이프스테이지</th>\n",
              "      <th>카드소비금액</th>\n",
              "      <th>하이엔드명품_정보</th>\n",
              "      <th>하이엔드백화점_정보</th>\n",
              "      <th>럭셔리지수_C</th>\n",
              "      <th>럭셔리지수</th>\n",
              "    </tr>\n",
              "  </thead>\n",
              "  <tbody>\n",
              "    <tr>\n",
              "      <th>0</th>\n",
              "      <td>449000</td>\n",
              "      <td>9607630</td>\n",
              "      <td>9</td>\n",
              "      <td>2</td>\n",
              "      <td>194000</td>\n",
              "      <td>0.00502</td>\n",
              "      <td>0.00585</td>\n",
              "      <td>3.00000</td>\n",
              "      <td>3.00000</td>\n",
              "    </tr>\n",
              "    <tr>\n",
              "      <th>1</th>\n",
              "      <td>1433000</td>\n",
              "      <td>7744560</td>\n",
              "      <td>8</td>\n",
              "      <td>5</td>\n",
              "      <td>49300</td>\n",
              "      <td>0.00079</td>\n",
              "      <td>0.00000</td>\n",
              "      <td>5.00000</td>\n",
              "      <td>2.00000</td>\n",
              "    </tr>\n",
              "    <tr>\n",
              "      <th>2</th>\n",
              "      <td>330000</td>\n",
              "      <td>10609180</td>\n",
              "      <td>11</td>\n",
              "      <td>4</td>\n",
              "      <td>196200</td>\n",
              "      <td>0.00106</td>\n",
              "      <td>0.00000</td>\n",
              "      <td>3.00000</td>\n",
              "      <td>2.00000</td>\n",
              "    </tr>\n",
              "    <tr>\n",
              "      <th>3</th>\n",
              "      <td>1610000</td>\n",
              "      <td>11066770</td>\n",
              "      <td>2</td>\n",
              "      <td>1</td>\n",
              "      <td>154400</td>\n",
              "      <td>0.02485</td>\n",
              "      <td>0.00292</td>\n",
              "      <td>4.00000</td>\n",
              "      <td>3.00000</td>\n",
              "    </tr>\n",
              "    <tr>\n",
              "      <th>4</th>\n",
              "      <td>1010000</td>\n",
              "      <td>27984730</td>\n",
              "      <td>21</td>\n",
              "      <td>3</td>\n",
              "      <td>551000</td>\n",
              "      <td>0.00820</td>\n",
              "      <td>0.00000</td>\n",
              "      <td>3.00000</td>\n",
              "      <td>3.00000</td>\n",
              "    </tr>\n",
              "    <tr>\n",
              "      <th>...</th>\n",
              "      <td>...</td>\n",
              "      <td>...</td>\n",
              "      <td>...</td>\n",
              "      <td>...</td>\n",
              "      <td>...</td>\n",
              "      <td>...</td>\n",
              "      <td>...</td>\n",
              "      <td>...</td>\n",
              "      <td>...</td>\n",
              "    </tr>\n",
              "    <tr>\n",
              "      <th>434204</th>\n",
              "      <td>344000</td>\n",
              "      <td>10399630</td>\n",
              "      <td>1</td>\n",
              "      <td>1</td>\n",
              "      <td>119500</td>\n",
              "      <td>0.00793</td>\n",
              "      <td>0.04094</td>\n",
              "      <td>3.00000</td>\n",
              "      <td>4.00000</td>\n",
              "    </tr>\n",
              "    <tr>\n",
              "      <th>434206</th>\n",
              "      <td>215000</td>\n",
              "      <td>16956640</td>\n",
              "      <td>9</td>\n",
              "      <td>4</td>\n",
              "      <td>166300</td>\n",
              "      <td>0.00846</td>\n",
              "      <td>0.00000</td>\n",
              "      <td>3.00000</td>\n",
              "      <td>3.00000</td>\n",
              "    </tr>\n",
              "    <tr>\n",
              "      <th>434207</th>\n",
              "      <td>3570000</td>\n",
              "      <td>17045770</td>\n",
              "      <td>6</td>\n",
              "      <td>3</td>\n",
              "      <td>231300</td>\n",
              "      <td>0.02300</td>\n",
              "      <td>0.00585</td>\n",
              "      <td>4.00000</td>\n",
              "      <td>3.00000</td>\n",
              "    </tr>\n",
              "    <tr>\n",
              "      <th>434208</th>\n",
              "      <td>5798000</td>\n",
              "      <td>5612160</td>\n",
              "      <td>3</td>\n",
              "      <td>2</td>\n",
              "      <td>89700</td>\n",
              "      <td>0.02485</td>\n",
              "      <td>0.00000</td>\n",
              "      <td>5.00000</td>\n",
              "      <td>3.00000</td>\n",
              "    </tr>\n",
              "    <tr>\n",
              "      <th>434209</th>\n",
              "      <td>966000</td>\n",
              "      <td>12884650</td>\n",
              "      <td>0</td>\n",
              "      <td>1</td>\n",
              "      <td>157100</td>\n",
              "      <td>0.03913</td>\n",
              "      <td>0.07310</td>\n",
              "      <td>3.00000</td>\n",
              "      <td>5.00000</td>\n",
              "    </tr>\n",
              "  </tbody>\n",
              "</table>\n",
              "<p>340546 rows × 9 columns</p>\n",
              "</div>"
            ],
            "text/plain": [
              "        백화점이용금액   총자산평가금액  자가거주여부  라이프스테이지  카드소비금액  하이엔드명품_정보  하이엔드백화점_정보  \\\n",
              "0        449000   9607630       9        2  194000    0.00502     0.00585   \n",
              "1       1433000   7744560       8        5   49300    0.00079     0.00000   \n",
              "2        330000  10609180      11        4  196200    0.00106     0.00000   \n",
              "3       1610000  11066770       2        1  154400    0.02485     0.00292   \n",
              "4       1010000  27984730      21        3  551000    0.00820     0.00000   \n",
              "...         ...       ...     ...      ...     ...        ...         ...   \n",
              "434204   344000  10399630       1        1  119500    0.00793     0.04094   \n",
              "434206   215000  16956640       9        4  166300    0.00846     0.00000   \n",
              "434207  3570000  17045770       6        3  231300    0.02300     0.00585   \n",
              "434208  5798000   5612160       3        2   89700    0.02485     0.00000   \n",
              "434209   966000  12884650       0        1  157100    0.03913     0.07310   \n",
              "\n",
              "        럭셔리지수_C   럭셔리지수  \n",
              "0       3.00000 3.00000  \n",
              "1       5.00000 2.00000  \n",
              "2       3.00000 2.00000  \n",
              "3       4.00000 3.00000  \n",
              "4       3.00000 3.00000  \n",
              "...         ...     ...  \n",
              "434204  3.00000 4.00000  \n",
              "434206  3.00000 3.00000  \n",
              "434207  4.00000 3.00000  \n",
              "434208  5.00000 3.00000  \n",
              "434209  3.00000 5.00000  \n",
              "\n",
              "[340546 rows x 9 columns]"
            ]
          },
          "execution_count": 162,
          "metadata": {},
          "output_type": "execute_result"
        }
      ],
      "source": [
        "df=lxr_non.copy()\n",
        "df['럭셔리지수'][(lxr_non['럭셔리지수']< (lxr_non['럭셔리지수']).quantile(.10))]=1\n",
        "df['럭셔리지수'][(lxr_non['럭셔리지수']>= (lxr_non['럭셔리지수']).quantile(.10)) &(lxr_non['럭셔리지수']<(lxr_non['럭셔리지수']).quantile(.30))]=2\n",
        "df['럭셔리지수'][(lxr_non['럭셔리지수']>=(lxr_non['럭셔리지수']).quantile(.30)) &(lxr_non['럭셔리지수']<(lxr_non['럭셔리지수']).quantile(.75))]=3\n",
        "df['럭셔리지수'][((lxr_non['럭셔리지수']>=(lxr_non['럭셔리지수']).quantile(.75)))&(lxr_non['럭셔리지수']<(lxr_non['럭셔리지수']).quantile(.90))]=4\n",
        "df['럭셔리지수'][(lxr_non['럭셔리지수']>=(lxr_non['럭셔리지수']).quantile(.90))]=5                                        \n",
        "\n",
        "df['럭셔리지수_C'][(lxr_non['럭셔리지수_C']<(lxr_non['럭셔리지수_C']).quantile(.10))]=1\n",
        "df['럭셔리지수_C'][(lxr_non['럭셔리지수_C']>=(lxr_non['럭셔리지수_C']).quantile(.10)) &(lxr_non['럭셔리지수_C']< (lxr_non['럭셔리지수_C']).quantile(.30))]=2\n",
        "df['럭셔리지수_C'][(lxr_non['럭셔리지수_C']>=(lxr_non['럭셔리지수_C']).quantile(.30)) &(lxr_non['럭셔리지수_C']< (lxr_non['럭셔리지수_C']).quantile(.75))]=3\n",
        "df['럭셔리지수_C'][((lxr_non['럭셔리지수_C']>= (lxr_non['럭셔리지수_C']).quantile(.75)))&(lxr_non['럭셔리지수_C']< (lxr_non['럭셔리지수_C']).quantile(.90))]=4\n",
        "df['럭셔리지수_C'][(lxr_non['럭셔리지수_C']>= (lxr_non['럭셔리지수_C']).quantile(.90))]=5                                        \n",
        "df"
      ]
    },
    {
      "cell_type": "code",
      "execution_count": null,
      "metadata": {
        "id": "ac70fa99",
        "outputId": "e560708b-7a72-4cfa-b977-0077cbe6ece3"
      },
      "outputs": [
        {
          "data": {
            "text/html": [
              "<div>\n",
              "<style scoped>\n",
              "    .dataframe tbody tr th:only-of-type {\n",
              "        vertical-align: middle;\n",
              "    }\n",
              "\n",
              "    .dataframe tbody tr th {\n",
              "        vertical-align: top;\n",
              "    }\n",
              "\n",
              "    .dataframe thead th {\n",
              "        text-align: right;\n",
              "    }\n",
              "</style>\n",
              "<table border=\"1\" class=\"dataframe\">\n",
              "  <thead>\n",
              "    <tr style=\"text-align: right;\">\n",
              "      <th></th>\n",
              "      <th>백화점이용금액</th>\n",
              "      <th>총자산평가금액</th>\n",
              "      <th>자가거주여부</th>\n",
              "      <th>라이프스테이지</th>\n",
              "      <th>카드소비금액</th>\n",
              "      <th>하이엔드명품_정보</th>\n",
              "      <th>하이엔드백화점_정보</th>\n",
              "      <th>럭셔리지수</th>\n",
              "    </tr>\n",
              "  </thead>\n",
              "  <tbody>\n",
              "    <tr>\n",
              "      <th>14</th>\n",
              "      <td>312000</td>\n",
              "      <td>10815250</td>\n",
              "      <td>8</td>\n",
              "      <td>5</td>\n",
              "      <td>46100</td>\n",
              "      <td>0</td>\n",
              "      <td>0</td>\n",
              "      <td>1</td>\n",
              "    </tr>\n",
              "    <tr>\n",
              "      <th>20</th>\n",
              "      <td>0</td>\n",
              "      <td>3582220</td>\n",
              "      <td>5</td>\n",
              "      <td>4</td>\n",
              "      <td>41700</td>\n",
              "      <td>0</td>\n",
              "      <td>0</td>\n",
              "      <td>1</td>\n",
              "    </tr>\n",
              "    <tr>\n",
              "      <th>23</th>\n",
              "      <td>37000</td>\n",
              "      <td>707500</td>\n",
              "      <td>1</td>\n",
              "      <td>2</td>\n",
              "      <td>23500</td>\n",
              "      <td>0</td>\n",
              "      <td>0</td>\n",
              "      <td>1</td>\n",
              "    </tr>\n",
              "    <tr>\n",
              "      <th>29</th>\n",
              "      <td>0</td>\n",
              "      <td>6164100</td>\n",
              "      <td>6</td>\n",
              "      <td>5</td>\n",
              "      <td>84700</td>\n",
              "      <td>0</td>\n",
              "      <td>0</td>\n",
              "      <td>1</td>\n",
              "    </tr>\n",
              "    <tr>\n",
              "      <th>31</th>\n",
              "      <td>452000</td>\n",
              "      <td>1702080</td>\n",
              "      <td>0</td>\n",
              "      <td>1</td>\n",
              "      <td>27200</td>\n",
              "      <td>0</td>\n",
              "      <td>0</td>\n",
              "      <td>1</td>\n",
              "    </tr>\n",
              "    <tr>\n",
              "      <th>...</th>\n",
              "      <td>...</td>\n",
              "      <td>...</td>\n",
              "      <td>...</td>\n",
              "      <td>...</td>\n",
              "      <td>...</td>\n",
              "      <td>...</td>\n",
              "      <td>...</td>\n",
              "      <td>...</td>\n",
              "    </tr>\n",
              "    <tr>\n",
              "      <th>434170</th>\n",
              "      <td>60000</td>\n",
              "      <td>20065360</td>\n",
              "      <td>14</td>\n",
              "      <td>5</td>\n",
              "      <td>80000</td>\n",
              "      <td>0</td>\n",
              "      <td>0</td>\n",
              "      <td>1</td>\n",
              "    </tr>\n",
              "    <tr>\n",
              "      <th>434185</th>\n",
              "      <td>776000</td>\n",
              "      <td>14752810</td>\n",
              "      <td>11</td>\n",
              "      <td>5</td>\n",
              "      <td>174200</td>\n",
              "      <td>0</td>\n",
              "      <td>0</td>\n",
              "      <td>1</td>\n",
              "    </tr>\n",
              "    <tr>\n",
              "      <th>434190</th>\n",
              "      <td>90000</td>\n",
              "      <td>10935470</td>\n",
              "      <td>9</td>\n",
              "      <td>5</td>\n",
              "      <td>46000</td>\n",
              "      <td>0</td>\n",
              "      <td>0</td>\n",
              "      <td>1</td>\n",
              "    </tr>\n",
              "    <tr>\n",
              "      <th>434195</th>\n",
              "      <td>0</td>\n",
              "      <td>6127610</td>\n",
              "      <td>5</td>\n",
              "      <td>5</td>\n",
              "      <td>75900</td>\n",
              "      <td>0</td>\n",
              "      <td>0</td>\n",
              "      <td>1</td>\n",
              "    </tr>\n",
              "    <tr>\n",
              "      <th>434205</th>\n",
              "      <td>1074000</td>\n",
              "      <td>11207130</td>\n",
              "      <td>5</td>\n",
              "      <td>5</td>\n",
              "      <td>53400</td>\n",
              "      <td>0</td>\n",
              "      <td>0</td>\n",
              "      <td>1</td>\n",
              "    </tr>\n",
              "  </tbody>\n",
              "</table>\n",
              "<p>93664 rows × 8 columns</p>\n",
              "</div>"
            ],
            "text/plain": [
              "        백화점이용금액   총자산평가금액  자가거주여부  라이프스테이지  카드소비금액  하이엔드명품_정보  하이엔드백화점_정보  \\\n",
              "14       312000  10815250       8        5   46100          0           0   \n",
              "20            0   3582220       5        4   41700          0           0   \n",
              "23        37000    707500       1        2   23500          0           0   \n",
              "29            0   6164100       6        5   84700          0           0   \n",
              "31       452000   1702080       0        1   27200          0           0   \n",
              "...         ...       ...     ...      ...     ...        ...         ...   \n",
              "434170    60000  20065360      14        5   80000          0           0   \n",
              "434185   776000  14752810      11        5  174200          0           0   \n",
              "434190    90000  10935470       9        5   46000          0           0   \n",
              "434195        0   6127610       5        5   75900          0           0   \n",
              "434205  1074000  11207130       5        5   53400          0           0   \n",
              "\n",
              "        럭셔리지수  \n",
              "14          1  \n",
              "20          1  \n",
              "23          1  \n",
              "29          1  \n",
              "31          1  \n",
              "...       ...  \n",
              "434170      1  \n",
              "434185      1  \n",
              "434190      1  \n",
              "434195      1  \n",
              "434205      1  \n",
              "\n",
              "[93664 rows x 8 columns]"
            ]
          },
          "execution_count": 163,
          "metadata": {},
          "output_type": "execute_result"
        }
      ],
      "source": [
        "lxr_zeros"
      ]
    },
    {
      "cell_type": "code",
      "execution_count": null,
      "metadata": {
        "id": "57979d17",
        "outputId": "4c2574b7-be2e-4c7b-e521-19d609c18d98"
      },
      "outputs": [
        {
          "name": "stderr",
          "output_type": "stream",
          "text": [
            "<ipython-input-164-6253b1821594>:1: SettingWithCopyWarning:\n",
            "\n",
            "\n",
            "A value is trying to be set on a copy of a slice from a DataFrame.\n",
            "Try using .loc[row_indexer,col_indexer] = value instead\n",
            "\n",
            "See the caveats in the documentation: https://pandas.pydata.org/pandas-docs/stable/user_guide/indexing.html#returning-a-view-versus-a-copy\n",
            "\n"
          ]
        }
      ],
      "source": [
        "lxr_zeros[\"럭셔리지수_C\"]=np.log(lxr_zeros[\"백화점이용금액\"]/lxr_zeros[\"카드소비금액\"]*10+1)"
      ]
    },
    {
      "cell_type": "code",
      "execution_count": null,
      "metadata": {
        "id": "0457aa83",
        "outputId": "68a20860-55f5-433f-b320-0b542cdf73b7"
      },
      "outputs": [
        {
          "data": {
            "text/html": [
              "<div>\n",
              "<style scoped>\n",
              "    .dataframe tbody tr th:only-of-type {\n",
              "        vertical-align: middle;\n",
              "    }\n",
              "\n",
              "    .dataframe tbody tr th {\n",
              "        vertical-align: top;\n",
              "    }\n",
              "\n",
              "    .dataframe thead th {\n",
              "        text-align: right;\n",
              "    }\n",
              "</style>\n",
              "<table border=\"1\" class=\"dataframe\">\n",
              "  <thead>\n",
              "    <tr style=\"text-align: right;\">\n",
              "      <th></th>\n",
              "      <th>백화점이용금액</th>\n",
              "      <th>총자산평가금액</th>\n",
              "      <th>자가거주여부</th>\n",
              "      <th>라이프스테이지</th>\n",
              "      <th>카드소비금액</th>\n",
              "      <th>하이엔드명품_정보</th>\n",
              "      <th>하이엔드백화점_정보</th>\n",
              "      <th>럭셔리지수</th>\n",
              "      <th>럭셔리지수_C</th>\n",
              "    </tr>\n",
              "  </thead>\n",
              "  <tbody>\n",
              "    <tr>\n",
              "      <th>14</th>\n",
              "      <td>312000</td>\n",
              "      <td>10815250</td>\n",
              "      <td>8</td>\n",
              "      <td>5</td>\n",
              "      <td>46100</td>\n",
              "      <td>0</td>\n",
              "      <td>0</td>\n",
              "      <td>1</td>\n",
              "      <td>4.22944</td>\n",
              "    </tr>\n",
              "    <tr>\n",
              "      <th>20</th>\n",
              "      <td>0</td>\n",
              "      <td>3582220</td>\n",
              "      <td>5</td>\n",
              "      <td>4</td>\n",
              "      <td>41700</td>\n",
              "      <td>0</td>\n",
              "      <td>0</td>\n",
              "      <td>1</td>\n",
              "      <td>0.00000</td>\n",
              "    </tr>\n",
              "    <tr>\n",
              "      <th>23</th>\n",
              "      <td>37000</td>\n",
              "      <td>707500</td>\n",
              "      <td>1</td>\n",
              "      <td>2</td>\n",
              "      <td>23500</td>\n",
              "      <td>0</td>\n",
              "      <td>0</td>\n",
              "      <td>1</td>\n",
              "      <td>2.81808</td>\n",
              "    </tr>\n",
              "    <tr>\n",
              "      <th>29</th>\n",
              "      <td>0</td>\n",
              "      <td>6164100</td>\n",
              "      <td>6</td>\n",
              "      <td>5</td>\n",
              "      <td>84700</td>\n",
              "      <td>0</td>\n",
              "      <td>0</td>\n",
              "      <td>1</td>\n",
              "      <td>0.00000</td>\n",
              "    </tr>\n",
              "    <tr>\n",
              "      <th>31</th>\n",
              "      <td>452000</td>\n",
              "      <td>1702080</td>\n",
              "      <td>0</td>\n",
              "      <td>1</td>\n",
              "      <td>27200</td>\n",
              "      <td>0</td>\n",
              "      <td>0</td>\n",
              "      <td>1</td>\n",
              "      <td>5.11905</td>\n",
              "    </tr>\n",
              "    <tr>\n",
              "      <th>...</th>\n",
              "      <td>...</td>\n",
              "      <td>...</td>\n",
              "      <td>...</td>\n",
              "      <td>...</td>\n",
              "      <td>...</td>\n",
              "      <td>...</td>\n",
              "      <td>...</td>\n",
              "      <td>...</td>\n",
              "      <td>...</td>\n",
              "    </tr>\n",
              "    <tr>\n",
              "      <th>434170</th>\n",
              "      <td>60000</td>\n",
              "      <td>20065360</td>\n",
              "      <td>14</td>\n",
              "      <td>5</td>\n",
              "      <td>80000</td>\n",
              "      <td>0</td>\n",
              "      <td>0</td>\n",
              "      <td>1</td>\n",
              "      <td>2.14007</td>\n",
              "    </tr>\n",
              "    <tr>\n",
              "      <th>434185</th>\n",
              "      <td>776000</td>\n",
              "      <td>14752810</td>\n",
              "      <td>11</td>\n",
              "      <td>5</td>\n",
              "      <td>174200</td>\n",
              "      <td>0</td>\n",
              "      <td>0</td>\n",
              "      <td>1</td>\n",
              "      <td>3.81873</td>\n",
              "    </tr>\n",
              "    <tr>\n",
              "      <th>434190</th>\n",
              "      <td>90000</td>\n",
              "      <td>10935470</td>\n",
              "      <td>9</td>\n",
              "      <td>5</td>\n",
              "      <td>46000</td>\n",
              "      <td>0</td>\n",
              "      <td>0</td>\n",
              "      <td>1</td>\n",
              "      <td>3.02360</td>\n",
              "    </tr>\n",
              "    <tr>\n",
              "      <th>434195</th>\n",
              "      <td>0</td>\n",
              "      <td>6127610</td>\n",
              "      <td>5</td>\n",
              "      <td>5</td>\n",
              "      <td>75900</td>\n",
              "      <td>0</td>\n",
              "      <td>0</td>\n",
              "      <td>1</td>\n",
              "      <td>0.00000</td>\n",
              "    </tr>\n",
              "    <tr>\n",
              "      <th>434205</th>\n",
              "      <td>1074000</td>\n",
              "      <td>11207130</td>\n",
              "      <td>5</td>\n",
              "      <td>5</td>\n",
              "      <td>53400</td>\n",
              "      <td>0</td>\n",
              "      <td>0</td>\n",
              "      <td>1</td>\n",
              "      <td>5.30888</td>\n",
              "    </tr>\n",
              "  </tbody>\n",
              "</table>\n",
              "<p>93664 rows × 9 columns</p>\n",
              "</div>"
            ],
            "text/plain": [
              "        백화점이용금액   총자산평가금액  자가거주여부  라이프스테이지  카드소비금액  하이엔드명품_정보  하이엔드백화점_정보  \\\n",
              "14       312000  10815250       8        5   46100          0           0   \n",
              "20            0   3582220       5        4   41700          0           0   \n",
              "23        37000    707500       1        2   23500          0           0   \n",
              "29            0   6164100       6        5   84700          0           0   \n",
              "31       452000   1702080       0        1   27200          0           0   \n",
              "...         ...       ...     ...      ...     ...        ...         ...   \n",
              "434170    60000  20065360      14        5   80000          0           0   \n",
              "434185   776000  14752810      11        5  174200          0           0   \n",
              "434190    90000  10935470       9        5   46000          0           0   \n",
              "434195        0   6127610       5        5   75900          0           0   \n",
              "434205  1074000  11207130       5        5   53400          0           0   \n",
              "\n",
              "        럭셔리지수  럭셔리지수_C  \n",
              "14          1  4.22944  \n",
              "20          1  0.00000  \n",
              "23          1  2.81808  \n",
              "29          1  0.00000  \n",
              "31          1  5.11905  \n",
              "...       ...      ...  \n",
              "434170      1  2.14007  \n",
              "434185      1  3.81873  \n",
              "434190      1  3.02360  \n",
              "434195      1  0.00000  \n",
              "434205      1  5.30888  \n",
              "\n",
              "[93664 rows x 9 columns]"
            ]
          },
          "execution_count": 165,
          "metadata": {},
          "output_type": "execute_result"
        }
      ],
      "source": [
        "lxr_zeros"
      ]
    },
    {
      "cell_type": "code",
      "execution_count": null,
      "metadata": {
        "id": "23fb3938",
        "outputId": "9a55502a-2860-42c4-d0be-56b7859a48d0"
      },
      "outputs": [
        {
          "data": {
            "text/plain": [
              "count   340546.00000\n",
              "mean         3.05000\n",
              "std          0.92060\n",
              "min          2.00000\n",
              "10%          2.00000\n",
              "30%          2.50000\n",
              "50%          3.00000\n",
              "75%          3.75000\n",
              "90%          4.50000\n",
              "max          5.00000\n",
              "Name: 럭셔리지수_C, dtype: float64"
            ]
          },
          "execution_count": 166,
          "metadata": {},
          "output_type": "execute_result"
        }
      ],
      "source": [
        "df.럭셔리지수_C.describe(percentiles=[.10,.30,.75,.90])"
      ]
    },
    {
      "cell_type": "code",
      "execution_count": null,
      "metadata": {
        "scrolled": true,
        "id": "61c82e8f",
        "outputId": "bda16ca1-47b2-4dd3-d252-86d84af0585b"
      },
      "outputs": [
        {
          "name": "stderr",
          "output_type": "stream",
          "text": [
            "<ipython-input-167-0678f1ff3b8d>:1: SettingWithCopyWarning:\n",
            "\n",
            "\n",
            "A value is trying to be set on a copy of a slice from a DataFrame\n",
            "\n",
            "See the caveats in the documentation: https://pandas.pydata.org/pandas-docs/stable/user_guide/indexing.html#returning-a-view-versus-a-copy\n",
            "\n",
            "<ipython-input-167-0678f1ff3b8d>:1: SettingWithCopyWarning:\n",
            "\n",
            "\n",
            "A value is trying to be set on a copy of a slice from a DataFrame\n",
            "\n",
            "See the caveats in the documentation: https://pandas.pydata.org/pandas-docs/stable/user_guide/indexing.html#returning-a-view-versus-a-copy\n",
            "\n",
            "<ipython-input-167-0678f1ff3b8d>:2: SettingWithCopyWarning:\n",
            "\n",
            "\n",
            "A value is trying to be set on a copy of a slice from a DataFrame\n",
            "\n",
            "See the caveats in the documentation: https://pandas.pydata.org/pandas-docs/stable/user_guide/indexing.html#returning-a-view-versus-a-copy\n",
            "\n",
            "<ipython-input-167-0678f1ff3b8d>:2: SettingWithCopyWarning:\n",
            "\n",
            "\n",
            "A value is trying to be set on a copy of a slice from a DataFrame\n",
            "\n",
            "See the caveats in the documentation: https://pandas.pydata.org/pandas-docs/stable/user_guide/indexing.html#returning-a-view-versus-a-copy\n",
            "\n",
            "<ipython-input-167-0678f1ff3b8d>:3: SettingWithCopyWarning:\n",
            "\n",
            "\n",
            "A value is trying to be set on a copy of a slice from a DataFrame\n",
            "\n",
            "See the caveats in the documentation: https://pandas.pydata.org/pandas-docs/stable/user_guide/indexing.html#returning-a-view-versus-a-copy\n",
            "\n",
            "<ipython-input-167-0678f1ff3b8d>:3: SettingWithCopyWarning:\n",
            "\n",
            "\n",
            "A value is trying to be set on a copy of a slice from a DataFrame\n",
            "\n",
            "See the caveats in the documentation: https://pandas.pydata.org/pandas-docs/stable/user_guide/indexing.html#returning-a-view-versus-a-copy\n",
            "\n",
            "<ipython-input-167-0678f1ff3b8d>:4: SettingWithCopyWarning:\n",
            "\n",
            "\n",
            "A value is trying to be set on a copy of a slice from a DataFrame\n",
            "\n",
            "See the caveats in the documentation: https://pandas.pydata.org/pandas-docs/stable/user_guide/indexing.html#returning-a-view-versus-a-copy\n",
            "\n",
            "<ipython-input-167-0678f1ff3b8d>:4: SettingWithCopyWarning:\n",
            "\n",
            "\n",
            "A value is trying to be set on a copy of a slice from a DataFrame\n",
            "\n",
            "See the caveats in the documentation: https://pandas.pydata.org/pandas-docs/stable/user_guide/indexing.html#returning-a-view-versus-a-copy\n",
            "\n",
            "<ipython-input-167-0678f1ff3b8d>:6: SettingWithCopyWarning:\n",
            "\n",
            "\n",
            "A value is trying to be set on a copy of a slice from a DataFrame\n",
            "\n",
            "See the caveats in the documentation: https://pandas.pydata.org/pandas-docs/stable/user_guide/indexing.html#returning-a-view-versus-a-copy\n",
            "\n",
            "<ipython-input-167-0678f1ff3b8d>:6: SettingWithCopyWarning:\n",
            "\n",
            "\n",
            "A value is trying to be set on a copy of a slice from a DataFrame\n",
            "\n",
            "See the caveats in the documentation: https://pandas.pydata.org/pandas-docs/stable/user_guide/indexing.html#returning-a-view-versus-a-copy\n",
            "\n"
          ]
        }
      ],
      "source": [
        "lxr_zeros[\"럭셔리지수_C\"][(lxr_zeros.럭셔리지수_C<df.럭셔리지수_C.quantile(.10) )]=1\n",
        "lxr_zeros[\"럭셔리지수_C\"][(lxr_zeros.럭셔리지수_C>=df.럭셔리지수_C.quantile(.10))&(lxr_zeros.럭셔리지수_C <df.럭셔리지수_C.quantile(.30))]=2\n",
        "lxr_zeros[\"럭셔리지수_C\"][(lxr_zeros.럭셔리지수_C>=df.럭셔리지수_C.quantile(.30))&(lxr_zeros.럭셔리지수_C<df.럭셔리지수_C.quantile(.75))]=3\n",
        "lxr_zeros[\"럭셔리지수_C\"][(lxr_zeros.럭셔리지수_C>=df.럭셔리지수_C.quantile(.75))&(lxr_zeros.럭셔리지수_C< df.럭셔리지수_C.quantile(.90))]=4\n",
        "\n",
        "lxr_zeros[\"럭셔리지수_C\"][(lxr_zeros.럭셔리지수_C>= df.럭셔리지수_C.quantile(.90))]=5"
      ]
    },
    {
      "cell_type": "code",
      "execution_count": null,
      "metadata": {
        "id": "f4f5ffd7",
        "outputId": "c4126b53-be2b-4e4c-e3ed-19a23052e98a"
      },
      "outputs": [
        {
          "data": {
            "text/html": [
              "<div>\n",
              "<style scoped>\n",
              "    .dataframe tbody tr th:only-of-type {\n",
              "        vertical-align: middle;\n",
              "    }\n",
              "\n",
              "    .dataframe tbody tr th {\n",
              "        vertical-align: top;\n",
              "    }\n",
              "\n",
              "    .dataframe thead th {\n",
              "        text-align: right;\n",
              "    }\n",
              "</style>\n",
              "<table border=\"1\" class=\"dataframe\">\n",
              "  <thead>\n",
              "    <tr style=\"text-align: right;\">\n",
              "      <th></th>\n",
              "      <th>백화점이용금액</th>\n",
              "      <th>총자산평가금액</th>\n",
              "      <th>자가거주여부</th>\n",
              "      <th>라이프스테이지</th>\n",
              "      <th>카드소비금액</th>\n",
              "      <th>하이엔드명품_정보</th>\n",
              "      <th>하이엔드백화점_정보</th>\n",
              "      <th>럭셔리지수</th>\n",
              "      <th>럭셔리지수_C</th>\n",
              "    </tr>\n",
              "  </thead>\n",
              "  <tbody>\n",
              "    <tr>\n",
              "      <th>14</th>\n",
              "      <td>312000</td>\n",
              "      <td>10815250</td>\n",
              "      <td>8</td>\n",
              "      <td>5</td>\n",
              "      <td>46100</td>\n",
              "      <td>0</td>\n",
              "      <td>0</td>\n",
              "      <td>1</td>\n",
              "      <td>4.00000</td>\n",
              "    </tr>\n",
              "    <tr>\n",
              "      <th>20</th>\n",
              "      <td>0</td>\n",
              "      <td>3582220</td>\n",
              "      <td>5</td>\n",
              "      <td>4</td>\n",
              "      <td>41700</td>\n",
              "      <td>0</td>\n",
              "      <td>0</td>\n",
              "      <td>1</td>\n",
              "      <td>1.00000</td>\n",
              "    </tr>\n",
              "    <tr>\n",
              "      <th>23</th>\n",
              "      <td>37000</td>\n",
              "      <td>707500</td>\n",
              "      <td>1</td>\n",
              "      <td>2</td>\n",
              "      <td>23500</td>\n",
              "      <td>0</td>\n",
              "      <td>0</td>\n",
              "      <td>1</td>\n",
              "      <td>3.00000</td>\n",
              "    </tr>\n",
              "    <tr>\n",
              "      <th>29</th>\n",
              "      <td>0</td>\n",
              "      <td>6164100</td>\n",
              "      <td>6</td>\n",
              "      <td>5</td>\n",
              "      <td>84700</td>\n",
              "      <td>0</td>\n",
              "      <td>0</td>\n",
              "      <td>1</td>\n",
              "      <td>1.00000</td>\n",
              "    </tr>\n",
              "    <tr>\n",
              "      <th>31</th>\n",
              "      <td>452000</td>\n",
              "      <td>1702080</td>\n",
              "      <td>0</td>\n",
              "      <td>1</td>\n",
              "      <td>27200</td>\n",
              "      <td>0</td>\n",
              "      <td>0</td>\n",
              "      <td>1</td>\n",
              "      <td>5.00000</td>\n",
              "    </tr>\n",
              "    <tr>\n",
              "      <th>...</th>\n",
              "      <td>...</td>\n",
              "      <td>...</td>\n",
              "      <td>...</td>\n",
              "      <td>...</td>\n",
              "      <td>...</td>\n",
              "      <td>...</td>\n",
              "      <td>...</td>\n",
              "      <td>...</td>\n",
              "      <td>...</td>\n",
              "    </tr>\n",
              "    <tr>\n",
              "      <th>434170</th>\n",
              "      <td>60000</td>\n",
              "      <td>20065360</td>\n",
              "      <td>14</td>\n",
              "      <td>5</td>\n",
              "      <td>80000</td>\n",
              "      <td>0</td>\n",
              "      <td>0</td>\n",
              "      <td>1</td>\n",
              "      <td>2.00000</td>\n",
              "    </tr>\n",
              "    <tr>\n",
              "      <th>434185</th>\n",
              "      <td>776000</td>\n",
              "      <td>14752810</td>\n",
              "      <td>11</td>\n",
              "      <td>5</td>\n",
              "      <td>174200</td>\n",
              "      <td>0</td>\n",
              "      <td>0</td>\n",
              "      <td>1</td>\n",
              "      <td>4.00000</td>\n",
              "    </tr>\n",
              "    <tr>\n",
              "      <th>434190</th>\n",
              "      <td>90000</td>\n",
              "      <td>10935470</td>\n",
              "      <td>9</td>\n",
              "      <td>5</td>\n",
              "      <td>46000</td>\n",
              "      <td>0</td>\n",
              "      <td>0</td>\n",
              "      <td>1</td>\n",
              "      <td>3.00000</td>\n",
              "    </tr>\n",
              "    <tr>\n",
              "      <th>434195</th>\n",
              "      <td>0</td>\n",
              "      <td>6127610</td>\n",
              "      <td>5</td>\n",
              "      <td>5</td>\n",
              "      <td>75900</td>\n",
              "      <td>0</td>\n",
              "      <td>0</td>\n",
              "      <td>1</td>\n",
              "      <td>1.00000</td>\n",
              "    </tr>\n",
              "    <tr>\n",
              "      <th>434205</th>\n",
              "      <td>1074000</td>\n",
              "      <td>11207130</td>\n",
              "      <td>5</td>\n",
              "      <td>5</td>\n",
              "      <td>53400</td>\n",
              "      <td>0</td>\n",
              "      <td>0</td>\n",
              "      <td>1</td>\n",
              "      <td>5.00000</td>\n",
              "    </tr>\n",
              "  </tbody>\n",
              "</table>\n",
              "<p>93664 rows × 9 columns</p>\n",
              "</div>"
            ],
            "text/plain": [
              "        백화점이용금액   총자산평가금액  자가거주여부  라이프스테이지  카드소비금액  하이엔드명품_정보  하이엔드백화점_정보  \\\n",
              "14       312000  10815250       8        5   46100          0           0   \n",
              "20            0   3582220       5        4   41700          0           0   \n",
              "23        37000    707500       1        2   23500          0           0   \n",
              "29            0   6164100       6        5   84700          0           0   \n",
              "31       452000   1702080       0        1   27200          0           0   \n",
              "...         ...       ...     ...      ...     ...        ...         ...   \n",
              "434170    60000  20065360      14        5   80000          0           0   \n",
              "434185   776000  14752810      11        5  174200          0           0   \n",
              "434190    90000  10935470       9        5   46000          0           0   \n",
              "434195        0   6127610       5        5   75900          0           0   \n",
              "434205  1074000  11207130       5        5   53400          0           0   \n",
              "\n",
              "        럭셔리지수  럭셔리지수_C  \n",
              "14          1  4.00000  \n",
              "20          1  1.00000  \n",
              "23          1  3.00000  \n",
              "29          1  1.00000  \n",
              "31          1  5.00000  \n",
              "...       ...      ...  \n",
              "434170      1  2.00000  \n",
              "434185      1  4.00000  \n",
              "434190      1  3.00000  \n",
              "434195      1  1.00000  \n",
              "434205      1  5.00000  \n",
              "\n",
              "[93664 rows x 9 columns]"
            ]
          },
          "execution_count": 168,
          "metadata": {},
          "output_type": "execute_result"
        }
      ],
      "source": [
        "lxr_zeros"
      ]
    },
    {
      "cell_type": "code",
      "execution_count": null,
      "metadata": {
        "id": "8f84e248",
        "outputId": "39ac123a-d974-441d-884c-f714908aa1f8"
      },
      "outputs": [
        {
          "data": {
            "text/plain": [
              "럭셔리지수\n",
              "1.00000    3165891.98559\n",
              "2.00000    5041905.04583\n",
              "3.00000    9861701.67346\n",
              "4.00000   21417628.66027\n",
              "5.00000   54921336.09094\n",
              "Name: 총자산평가금액, dtype: float64"
            ]
          },
          "execution_count": 169,
          "metadata": {},
          "output_type": "execute_result"
        }
      ],
      "source": [
        "df.groupby(\"럭셔리지수\")[\"총자산평가금액\"].sum()/df.groupby(\"럭셔리지수\")[\"총자산평가금액\"].count()"
      ]
    },
    {
      "cell_type": "code",
      "execution_count": null,
      "metadata": {
        "id": "f84dc831",
        "outputId": "0e4aec43-d0ee-434e-d16f-9a9562bf6a44"
      },
      "outputs": [
        {
          "data": {
            "text/plain": [
              "럭셔리지수\n",
              "1.00000     71357.33593\n",
              "2.00000    115259.60200\n",
              "3.00000    248619.65518\n",
              "4.00000    518213.74584\n",
              "5.00000   1071813.70828\n",
              "Name: 카드소비금액, dtype: float64"
            ]
          },
          "execution_count": 170,
          "metadata": {},
          "output_type": "execute_result"
        }
      ],
      "source": [
        "df.groupby(\"럭셔리지수\")[\"카드소비금액\"].sum()/df.groupby(\"럭셔리지수\")[\"카드소비금액\"].count()  ##과소비성향은 럭셔리지수따라감"
      ]
    },
    {
      "cell_type": "code",
      "execution_count": null,
      "metadata": {
        "id": "410f340f",
        "outputId": "e42e537a-4dbc-429c-a48b-63de7f466d27"
      },
      "outputs": [
        {
          "data": {
            "text/plain": [
              "럭셔리지수_C\n",
              "2.00000     84166.53616\n",
              "3.00000   1784977.95512\n",
              "4.00000   5596121.88577\n",
              "5.00000   8669538.14747\n",
              "dtype: float64"
            ]
          },
          "execution_count": 171,
          "metadata": {},
          "output_type": "execute_result"
        }
      ],
      "source": [
        "df.groupby(\"럭셔리지수_C\")[\"백화점이용금액\"].sum()/df.groupby(\"럭셔리지수_C\")[\"총자산평가금액\"].count()  ## 과소비 성향은 구매력지수 따라가지 않음"
      ]
    },
    {
      "cell_type": "code",
      "execution_count": null,
      "metadata": {
        "id": "42e430e0",
        "outputId": "3cb6759b-ddc0-4fef-8e27-0f4fe4834e0a"
      },
      "outputs": [
        {
          "data": {
            "text/plain": [
              "럭셔리지수_C\n",
              "2.00000   161054.29114\n",
              "3.00000   403627.36468\n",
              "4.00000   457048.92917\n",
              "5.00000   300500.07928\n",
              "dtype: float64"
            ]
          },
          "execution_count": 172,
          "metadata": {},
          "output_type": "execute_result"
        }
      ],
      "source": [
        "df.groupby(\"럭셔리지수_C\")[\"카드소비금액\"].sum()/df.groupby(\"럭셔리지수_C\")[\"총자산평가금액\"].count()  ## 과소비 성향은 구매력지수 따라가지 않음"
      ]
    },
    {
      "cell_type": "code",
      "execution_count": null,
      "metadata": {
        "id": "99ee9440",
        "outputId": "73cbf5c1-a675-46e9-fd52-405275c6bdee"
      },
      "outputs": [
        {
          "name": "stderr",
          "output_type": "stream",
          "text": [
            "C:\\ProgramData\\Anaconda3\\lib\\site-packages\\seaborn\\matrix.py:332: UserWarning:\n",
            "\n",
            "Glyph 8722 (\\N{MINUS SIGN}) missing from current font.\n",
            "\n"
          ]
        },
        {
          "data": {
            "text/plain": [
              "<AxesSubplot:>"
            ]
          },
          "execution_count": 173,
          "metadata": {},
          "output_type": "execute_result"
        },
        {
          "name": "stderr",
          "output_type": "stream",
          "text": [
            "C:\\ProgramData\\Anaconda3\\lib\\site-packages\\IPython\\core\\pylabtools.py:132: UserWarning:\n",
            "\n",
            "Glyph 8722 (\\N{MINUS SIGN}) missing from current font.\n",
            "\n"
          ]
        },
        {
          "data": {
            "image/png": "[encoded data removed]",
            "text/plain": [
              "<Figure size 432x288 with 2 Axes>"
            ]
          },
          "metadata": {
            "needs_background": "light"
          },
          "output_type": "display_data"
        }
      ],
      "source": [
        "df_corr=df.corr()    ## 럭셔리관심도만 측정된 럭셔리지수가 가중치된 지수와 평균 소비금액 차이 나는지                          \n",
        "sns.heatmap(df_corr, cmap=\"PuBu\", annot=True)"
      ]
    },
    {
      "cell_type": "code",
      "execution_count": null,
      "metadata": {
        "id": "313c04c8",
        "outputId": "b43fecfc-24a6-4d89-d94a-1eea3f8308c0"
      },
      "outputs": [
        {
          "data": {
            "text/plain": [
              "럭셔리지수_C\n",
              "1.00000   31934.45773\n",
              "2.00000   73333.08725\n",
              "3.00000   66960.45538\n",
              "4.00000   57034.02732\n",
              "5.00000   42383.98238\n",
              "dtype: float64"
            ]
          },
          "execution_count": 174,
          "metadata": {},
          "output_type": "execute_result"
        }
      ],
      "source": [
        "lxr_zeros.groupby(\"럭셔리지수_C\")[\"카드소비금액\"].sum()/lxr_zeros.groupby(\"럭셔리지수_C\")[\"총자산평가금액\"].count() "
      ]
    },
    {
      "cell_type": "code",
      "execution_count": null,
      "metadata": {
        "id": "531c7a80",
        "outputId": "d7e2d17c-345e-42ba-ad3a-af50181d50f4"
      },
      "outputs": [
        {
          "data": {
            "text/html": [
              "<div>\n",
              "<style scoped>\n",
              "    .dataframe tbody tr th:only-of-type {\n",
              "        vertical-align: middle;\n",
              "    }\n",
              "\n",
              "    .dataframe tbody tr th {\n",
              "        vertical-align: top;\n",
              "    }\n",
              "\n",
              "    .dataframe thead th {\n",
              "        text-align: right;\n",
              "    }\n",
              "</style>\n",
              "<table border=\"1\" class=\"dataframe\">\n",
              "  <thead>\n",
              "    <tr style=\"text-align: right;\">\n",
              "      <th></th>\n",
              "      <th>백화점이용금액</th>\n",
              "      <th>총자산평가금액</th>\n",
              "      <th>자가거주여부</th>\n",
              "      <th>라이프스테이지</th>\n",
              "      <th>카드소비금액</th>\n",
              "      <th>하이엔드명품_정보</th>\n",
              "      <th>하이엔드백화점_정보</th>\n",
              "      <th>럭셔리지수_C</th>\n",
              "      <th>럭셔리지수</th>\n",
              "    </tr>\n",
              "  </thead>\n",
              "  <tbody>\n",
              "    <tr>\n",
              "      <th>0</th>\n",
              "      <td>449000</td>\n",
              "      <td>9607630</td>\n",
              "      <td>9</td>\n",
              "      <td>2</td>\n",
              "      <td>194000</td>\n",
              "      <td>0.00502</td>\n",
              "      <td>0.00585</td>\n",
              "      <td>3.00000</td>\n",
              "      <td>3.00000</td>\n",
              "    </tr>\n",
              "    <tr>\n",
              "      <th>1</th>\n",
              "      <td>1433000</td>\n",
              "      <td>7744560</td>\n",
              "      <td>8</td>\n",
              "      <td>5</td>\n",
              "      <td>49300</td>\n",
              "      <td>0.00079</td>\n",
              "      <td>0.00000</td>\n",
              "      <td>5.00000</td>\n",
              "      <td>2.00000</td>\n",
              "    </tr>\n",
              "    <tr>\n",
              "      <th>2</th>\n",
              "      <td>330000</td>\n",
              "      <td>10609180</td>\n",
              "      <td>11</td>\n",
              "      <td>4</td>\n",
              "      <td>196200</td>\n",
              "      <td>0.00106</td>\n",
              "      <td>0.00000</td>\n",
              "      <td>3.00000</td>\n",
              "      <td>2.00000</td>\n",
              "    </tr>\n",
              "    <tr>\n",
              "      <th>3</th>\n",
              "      <td>1610000</td>\n",
              "      <td>11066770</td>\n",
              "      <td>2</td>\n",
              "      <td>1</td>\n",
              "      <td>154400</td>\n",
              "      <td>0.02485</td>\n",
              "      <td>0.00292</td>\n",
              "      <td>4.00000</td>\n",
              "      <td>3.00000</td>\n",
              "    </tr>\n",
              "    <tr>\n",
              "      <th>4</th>\n",
              "      <td>1010000</td>\n",
              "      <td>27984730</td>\n",
              "      <td>21</td>\n",
              "      <td>3</td>\n",
              "      <td>551000</td>\n",
              "      <td>0.00820</td>\n",
              "      <td>0.00000</td>\n",
              "      <td>3.00000</td>\n",
              "      <td>3.00000</td>\n",
              "    </tr>\n",
              "    <tr>\n",
              "      <th>...</th>\n",
              "      <td>...</td>\n",
              "      <td>...</td>\n",
              "      <td>...</td>\n",
              "      <td>...</td>\n",
              "      <td>...</td>\n",
              "      <td>...</td>\n",
              "      <td>...</td>\n",
              "      <td>...</td>\n",
              "      <td>...</td>\n",
              "    </tr>\n",
              "    <tr>\n",
              "      <th>434204</th>\n",
              "      <td>344000</td>\n",
              "      <td>10399630</td>\n",
              "      <td>1</td>\n",
              "      <td>1</td>\n",
              "      <td>119500</td>\n",
              "      <td>0.00793</td>\n",
              "      <td>0.04094</td>\n",
              "      <td>3.00000</td>\n",
              "      <td>4.00000</td>\n",
              "    </tr>\n",
              "    <tr>\n",
              "      <th>434206</th>\n",
              "      <td>215000</td>\n",
              "      <td>16956640</td>\n",
              "      <td>9</td>\n",
              "      <td>4</td>\n",
              "      <td>166300</td>\n",
              "      <td>0.00846</td>\n",
              "      <td>0.00000</td>\n",
              "      <td>3.00000</td>\n",
              "      <td>3.00000</td>\n",
              "    </tr>\n",
              "    <tr>\n",
              "      <th>434207</th>\n",
              "      <td>3570000</td>\n",
              "      <td>17045770</td>\n",
              "      <td>6</td>\n",
              "      <td>3</td>\n",
              "      <td>231300</td>\n",
              "      <td>0.02300</td>\n",
              "      <td>0.00585</td>\n",
              "      <td>4.00000</td>\n",
              "      <td>3.00000</td>\n",
              "    </tr>\n",
              "    <tr>\n",
              "      <th>434208</th>\n",
              "      <td>5798000</td>\n",
              "      <td>5612160</td>\n",
              "      <td>3</td>\n",
              "      <td>2</td>\n",
              "      <td>89700</td>\n",
              "      <td>0.02485</td>\n",
              "      <td>0.00000</td>\n",
              "      <td>5.00000</td>\n",
              "      <td>3.00000</td>\n",
              "    </tr>\n",
              "    <tr>\n",
              "      <th>434209</th>\n",
              "      <td>966000</td>\n",
              "      <td>12884650</td>\n",
              "      <td>0</td>\n",
              "      <td>1</td>\n",
              "      <td>157100</td>\n",
              "      <td>0.03913</td>\n",
              "      <td>0.07310</td>\n",
              "      <td>3.00000</td>\n",
              "      <td>5.00000</td>\n",
              "    </tr>\n",
              "  </tbody>\n",
              "</table>\n",
              "<p>340546 rows × 9 columns</p>\n",
              "</div>"
            ],
            "text/plain": [
              "        백화점이용금액   총자산평가금액  자가거주여부  라이프스테이지  카드소비금액  하이엔드명품_정보  하이엔드백화점_정보  \\\n",
              "0        449000   9607630       9        2  194000    0.00502     0.00585   \n",
              "1       1433000   7744560       8        5   49300    0.00079     0.00000   \n",
              "2        330000  10609180      11        4  196200    0.00106     0.00000   \n",
              "3       1610000  11066770       2        1  154400    0.02485     0.00292   \n",
              "4       1010000  27984730      21        3  551000    0.00820     0.00000   \n",
              "...         ...       ...     ...      ...     ...        ...         ...   \n",
              "434204   344000  10399630       1        1  119500    0.00793     0.04094   \n",
              "434206   215000  16956640       9        4  166300    0.00846     0.00000   \n",
              "434207  3570000  17045770       6        3  231300    0.02300     0.00585   \n",
              "434208  5798000   5612160       3        2   89700    0.02485     0.00000   \n",
              "434209   966000  12884650       0        1  157100    0.03913     0.07310   \n",
              "\n",
              "        럭셔리지수_C   럭셔리지수  \n",
              "0       3.00000 3.00000  \n",
              "1       5.00000 2.00000  \n",
              "2       3.00000 2.00000  \n",
              "3       4.00000 3.00000  \n",
              "4       3.00000 3.00000  \n",
              "...         ...     ...  \n",
              "434204  3.00000 4.00000  \n",
              "434206  3.00000 3.00000  \n",
              "434207  4.00000 3.00000  \n",
              "434208  5.00000 3.00000  \n",
              "434209  3.00000 5.00000  \n",
              "\n",
              "[340546 rows x 9 columns]"
            ]
          },
          "execution_count": 175,
          "metadata": {},
          "output_type": "execute_result"
        }
      ],
      "source": [
        "df"
      ]
    },
    {
      "cell_type": "code",
      "execution_count": null,
      "metadata": {
        "id": "1f380124"
      },
      "outputs": [],
      "source": [
        "lxr_result=pd.concat([lxr_zeros, df])\n",
        "lxr_result=lxr_result.sort_index()\n",
        "lxr_result.reset_index(inplace=True,drop=True)"
      ]
    },
    {
      "cell_type": "code",
      "execution_count": null,
      "metadata": {
        "id": "7754a1f9",
        "outputId": "cfa378bc-f6c2-4103-b922-02b97fa6c844"
      },
      "outputs": [
        {
          "data": {
            "text/html": [
              "<div>\n",
              "<style scoped>\n",
              "    .dataframe tbody tr th:only-of-type {\n",
              "        vertical-align: middle;\n",
              "    }\n",
              "\n",
              "    .dataframe tbody tr th {\n",
              "        vertical-align: top;\n",
              "    }\n",
              "\n",
              "    .dataframe thead th {\n",
              "        text-align: right;\n",
              "    }\n",
              "</style>\n",
              "<table border=\"1\" class=\"dataframe\">\n",
              "  <thead>\n",
              "    <tr style=\"text-align: right;\">\n",
              "      <th></th>\n",
              "      <th>백화점이용금액</th>\n",
              "      <th>총자산평가금액</th>\n",
              "      <th>자가거주여부</th>\n",
              "      <th>라이프스테이지</th>\n",
              "      <th>카드소비금액</th>\n",
              "      <th>하이엔드명품_정보</th>\n",
              "      <th>하이엔드백화점_정보</th>\n",
              "      <th>럭셔리지수</th>\n",
              "      <th>럭셔리지수_C</th>\n",
              "    </tr>\n",
              "  </thead>\n",
              "  <tbody>\n",
              "    <tr>\n",
              "      <th>0</th>\n",
              "      <td>449000</td>\n",
              "      <td>9607630</td>\n",
              "      <td>9</td>\n",
              "      <td>2</td>\n",
              "      <td>194000</td>\n",
              "      <td>0.00502</td>\n",
              "      <td>0.00585</td>\n",
              "      <td>3.00000</td>\n",
              "      <td>3.00000</td>\n",
              "    </tr>\n",
              "    <tr>\n",
              "      <th>1</th>\n",
              "      <td>1433000</td>\n",
              "      <td>7744560</td>\n",
              "      <td>8</td>\n",
              "      <td>5</td>\n",
              "      <td>49300</td>\n",
              "      <td>0.00079</td>\n",
              "      <td>0.00000</td>\n",
              "      <td>2.00000</td>\n",
              "      <td>5.00000</td>\n",
              "    </tr>\n",
              "    <tr>\n",
              "      <th>2</th>\n",
              "      <td>330000</td>\n",
              "      <td>10609180</td>\n",
              "      <td>11</td>\n",
              "      <td>4</td>\n",
              "      <td>196200</td>\n",
              "      <td>0.00106</td>\n",
              "      <td>0.00000</td>\n",
              "      <td>2.00000</td>\n",
              "      <td>3.00000</td>\n",
              "    </tr>\n",
              "    <tr>\n",
              "      <th>3</th>\n",
              "      <td>1610000</td>\n",
              "      <td>11066770</td>\n",
              "      <td>2</td>\n",
              "      <td>1</td>\n",
              "      <td>154400</td>\n",
              "      <td>0.02485</td>\n",
              "      <td>0.00292</td>\n",
              "      <td>3.00000</td>\n",
              "      <td>4.00000</td>\n",
              "    </tr>\n",
              "    <tr>\n",
              "      <th>4</th>\n",
              "      <td>1010000</td>\n",
              "      <td>27984730</td>\n",
              "      <td>21</td>\n",
              "      <td>3</td>\n",
              "      <td>551000</td>\n",
              "      <td>0.00820</td>\n",
              "      <td>0.00000</td>\n",
              "      <td>3.00000</td>\n",
              "      <td>3.00000</td>\n",
              "    </tr>\n",
              "    <tr>\n",
              "      <th>...</th>\n",
              "      <td>...</td>\n",
              "      <td>...</td>\n",
              "      <td>...</td>\n",
              "      <td>...</td>\n",
              "      <td>...</td>\n",
              "      <td>...</td>\n",
              "      <td>...</td>\n",
              "      <td>...</td>\n",
              "      <td>...</td>\n",
              "    </tr>\n",
              "    <tr>\n",
              "      <th>434205</th>\n",
              "      <td>1074000</td>\n",
              "      <td>11207130</td>\n",
              "      <td>5</td>\n",
              "      <td>5</td>\n",
              "      <td>53400</td>\n",
              "      <td>0.00000</td>\n",
              "      <td>0.00000</td>\n",
              "      <td>1.00000</td>\n",
              "      <td>5.00000</td>\n",
              "    </tr>\n",
              "    <tr>\n",
              "      <th>434206</th>\n",
              "      <td>215000</td>\n",
              "      <td>16956640</td>\n",
              "      <td>9</td>\n",
              "      <td>4</td>\n",
              "      <td>166300</td>\n",
              "      <td>0.00846</td>\n",
              "      <td>0.00000</td>\n",
              "      <td>3.00000</td>\n",
              "      <td>3.00000</td>\n",
              "    </tr>\n",
              "    <tr>\n",
              "      <th>434207</th>\n",
              "      <td>3570000</td>\n",
              "      <td>17045770</td>\n",
              "      <td>6</td>\n",
              "      <td>3</td>\n",
              "      <td>231300</td>\n",
              "      <td>0.02300</td>\n",
              "      <td>0.00585</td>\n",
              "      <td>3.00000</td>\n",
              "      <td>4.00000</td>\n",
              "    </tr>\n",
              "    <tr>\n",
              "      <th>434208</th>\n",
              "      <td>5798000</td>\n",
              "      <td>5612160</td>\n",
              "      <td>3</td>\n",
              "      <td>2</td>\n",
              "      <td>89700</td>\n",
              "      <td>0.02485</td>\n",
              "      <td>0.00000</td>\n",
              "      <td>3.00000</td>\n",
              "      <td>5.00000</td>\n",
              "    </tr>\n",
              "    <tr>\n",
              "      <th>434209</th>\n",
              "      <td>966000</td>\n",
              "      <td>12884650</td>\n",
              "      <td>0</td>\n",
              "      <td>1</td>\n",
              "      <td>157100</td>\n",
              "      <td>0.03913</td>\n",
              "      <td>0.07310</td>\n",
              "      <td>5.00000</td>\n",
              "      <td>3.00000</td>\n",
              "    </tr>\n",
              "  </tbody>\n",
              "</table>\n",
              "<p>434210 rows × 9 columns</p>\n",
              "</div>"
            ],
            "text/plain": [
              "        백화점이용금액   총자산평가금액  자가거주여부  라이프스테이지  카드소비금액  하이엔드명품_정보  하이엔드백화점_정보  \\\n",
              "0        449000   9607630       9        2  194000    0.00502     0.00585   \n",
              "1       1433000   7744560       8        5   49300    0.00079     0.00000   \n",
              "2        330000  10609180      11        4  196200    0.00106     0.00000   \n",
              "3       1610000  11066770       2        1  154400    0.02485     0.00292   \n",
              "4       1010000  27984730      21        3  551000    0.00820     0.00000   \n",
              "...         ...       ...     ...      ...     ...        ...         ...   \n",
              "434205  1074000  11207130       5        5   53400    0.00000     0.00000   \n",
              "434206   215000  16956640       9        4  166300    0.00846     0.00000   \n",
              "434207  3570000  17045770       6        3  231300    0.02300     0.00585   \n",
              "434208  5798000   5612160       3        2   89700    0.02485     0.00000   \n",
              "434209   966000  12884650       0        1  157100    0.03913     0.07310   \n",
              "\n",
              "         럭셔리지수  럭셔리지수_C  \n",
              "0      3.00000  3.00000  \n",
              "1      2.00000  5.00000  \n",
              "2      2.00000  3.00000  \n",
              "3      3.00000  4.00000  \n",
              "4      3.00000  3.00000  \n",
              "...        ...      ...  \n",
              "434205 1.00000  5.00000  \n",
              "434206 3.00000  3.00000  \n",
              "434207 3.00000  4.00000  \n",
              "434208 3.00000  5.00000  \n",
              "434209 5.00000  3.00000  \n",
              "\n",
              "[434210 rows x 9 columns]"
            ]
          },
          "execution_count": 177,
          "metadata": {},
          "output_type": "execute_result"
        }
      ],
      "source": [
        "lxr_result"
      ]
    },
    {
      "cell_type": "code",
      "execution_count": null,
      "metadata": {
        "id": "2200b765",
        "outputId": "a53c12ec-c5a0-4af2-f6f2-acc1e529dec4"
      },
      "outputs": [
        {
          "data": {
            "text/plain": [
              "백화점이용금액       0\n",
              "총자산평가금액       0\n",
              "자가거주여부        0\n",
              "라이프스테이지       0\n",
              "카드소비금액        0\n",
              "하이엔드명품_정보     0\n",
              "하이엔드백화점_정보    0\n",
              "럭셔리지수         0\n",
              "럭셔리지수_C       0\n",
              "dtype: int64"
            ]
          },
          "execution_count": 178,
          "metadata": {},
          "output_type": "execute_result"
        }
      ],
      "source": [
        "lxr_result.isnull().sum() #럭셔리지수_C"
      ]
    },
    {
      "cell_type": "code",
      "execution_count": null,
      "metadata": {
        "id": "87cc3994"
      },
      "outputs": [],
      "source": [
        "lxr_result.to_csv(\"./LXR.csv\", index=False)"
      ]
    }
  ]
}