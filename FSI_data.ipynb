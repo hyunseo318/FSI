{
  "nbformat": 4,
  "nbformat_minor": 0,
  "metadata": {
    "colab": {
      "provenance": [],
      "authorship_tag": "ABX9TyOqu366wMV1/2E+H//aQmBs"
    },
    "kernelspec": {
      "name": "python3",
      "display_name": "Python 3"
    },
    "language_info": {
      "name": "python"
    }
  },
  "cells": [
    {
      "cell_type": "markdown",
      "source": [
        "##**데이터 확인 및 전처리**"
      ],
      "metadata": {
        "id": "8o9vdrF3s-A9"
      }
    },
    {
      "cell_type": "code",
      "execution_count": null,
      "metadata": {
        "id": "8CTVsWcHs-A-"
      },
      "outputs": [],
      "source": [
        "import pandas as pd\n",
        "import numpy as np\n",
        "import seaborn as sns\n",
        "import matplotlib.pyplot as plt\n",
        "from pandas import Series, DataFrame\n",
        "plt.rcParams['font.family']='Malgun Gothic'\n",
        "plt.figure(figsize=(15,10))\n",
        "%matplotlib inline"
      ]
    },
    {
      "cell_type": "code",
      "execution_count": null,
      "metadata": {
        "id": "mRrsGe_Ts-A_"
      },
      "outputs": [],
      "source": [
        "data=pd.read_table(\"C:/test_3_1.txt\",sep='|') "
      ]
    },
    {
      "cell_type": "code",
      "execution_count": null,
      "metadata": {
        "id": "4-TA1aDes-BA"
      },
      "outputs": [],
      "source": [
        "data.columns=['기준시점', '아파트단지코드', '라이프스테이지', '요식이용금액', '유흥이용금액',\n",
        "              '백화점이용금액', '대형할인점이용금액','소형유통점이용금액', \n",
        "              '의류/잡화이용금액', '스포츠/문화/레저이용금액','숙박이용금액', '국내여행이용금액', '교통이용금액',\n",
        "              '미용이용금액','가정생활/서비스이용금액','교육/학원이용금액',  '의료이용금액', '가전/가구이용금액', '자동차판매이용금액', \n",
        "              '자동차서비스/용품이용금액', '주유이용금액', '전자상거래이용금액', '배달앱이용금액', '특급호텔이용금액', \n",
        "              '제주도지역이용금액','해외여행이용금액', '스타벅스이용금액', '버스주중이용건수', '택시주중이용건수', \n",
        "              '하이패스주중이용건수', 'ktx주중이용건수','버스주말이용건수','택시주말이용건수', '하이패스주말이용건수', 'KTX주말이용건수', \n",
        "              '총자산평가금액', '주택보유건수', '자가거주여부', '주택담보대출잔액', '신용대출잔액',\n",
        "              '카드소비금액', '분기신규담대출여부', '분기신규이용대출여부','평일집직장외방문일', '휴일집직장외방문일',\n",
        "              '평일집근처체류시간', '휴일집근처체류시간', '평일직장근처체류시간', '휴일직장근처체류시간', '평일이동횟수',\n",
        "              '휴일이동횟수', '평일이동거리', '휴일이동거리','네비이용횟수', '지하철이용횟수',\n",
        "              '증권사_정보', '암호화폐_정보', '자동차수입_정보','자동차전기차_정보', '하이엔드명품_정보', '하이엔드백화점_정보']"
      ]
    },
    {
      "cell_type": "code",
      "execution_count": null,
      "metadata": {
        "id": "tzY81ORas-BD"
      },
      "outputs": [],
      "source": [
        "pd.options.display.float_format = '{:.5f}'.format"
      ]
    }
  ]
}