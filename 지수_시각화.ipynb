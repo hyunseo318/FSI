{
  "nbformat": 4,
  "nbformat_minor": 0,
  "metadata": {
    "colab": {
      "provenance": [],
      "authorship_tag": "ABX9TyNPAd7LCOmRVe2nBlLoSi81"
    },
    "kernelspec": {
      "name": "python3",
      "display_name": "Python 3"
    },
    "language_info": {
      "name": "python"
    }
  },
  "cells": [
    {
      "cell_type": "markdown",
      "metadata": {
        "id": "5504d4ee"
      },
      "source": [
        "##**지수 시각화**\n",
        "###**고객 육각형 시각화 + 단지코드 시각화**"
      ]
    },
    {
      "cell_type": "code",
      "execution_count": null,
      "metadata": {
        "id": "a39cdab9"
      },
      "outputs": [],
      "source": [
        "data=pd.read_csv('C:/Users/fsecuser116/Desktop/DATA_final.csv')"
      ]
    },
    {
      "cell_type": "code",
      "execution_count": null,
      "metadata": {
        "id": "9ebb33af"
      },
      "outputs": [],
      "source": [
        "from math import pi\n",
        "from matplotlib.path import Path\n",
        "from matplotlib.spines import Spine\n",
        "from matplotlib.transforms import Affine2D"
      ]
    },
    {
      "cell_type": "code",
      "execution_count": null,
      "metadata": {
        "id": "b9b36fc0"
      },
      "outputs": [],
      "source": [
        "df=data[[\"아파트단지코드\",\"라이프스테이지\",\"요식이용금액\",\"유흥이용금액\",\"백화점이용금액\",\"자동차서비스/용품이용금액\",\"스포츠/문화/레저이용금액\",\"가정생활/서비스이용금액\",\"총자산평가금액\",\"카드소비금액\",\"온라인의존지수\",\"포미지수\",\"럭셔리지수\",\"럭셔리지수_C\",\"집순이집돌이지수\",\"워라밸지수\",\"욜로지수\",\"욜로지수_H\"]]"
      ]
    },
    {
      "cell_type": "code",
      "execution_count": null,
      "metadata": {
        "id": "9e39688d",
        "outputId": "f38e4961-d21f-4a68-c887-3120bbd5e343"
      },
      "outputs": [
        {
          "data": {
            "text/html": [
              "<div>\n",
              "<style scoped>\n",
              "    .dataframe tbody tr th:only-of-type {\n",
              "        vertical-align: middle;\n",
              "    }\n",
              "\n",
              "    .dataframe tbody tr th {\n",
              "        vertical-align: top;\n",
              "    }\n",
              "\n",
              "    .dataframe thead th {\n",
              "        text-align: right;\n",
              "    }\n",
              "</style>\n",
              "<table border=\"1\" class=\"dataframe\">\n",
              "  <thead>\n",
              "    <tr style=\"text-align: right;\">\n",
              "      <th></th>\n",
              "      <th>아파트단지코드</th>\n",
              "      <th>라이프스테이지</th>\n",
              "      <th>요식이용금액</th>\n",
              "      <th>유흥이용금액</th>\n",
              "      <th>백화점이용금액</th>\n",
              "      <th>자동차서비스/용품이용금액</th>\n",
              "      <th>스포츠/문화/레저이용금액</th>\n",
              "      <th>가정생활/서비스이용금액</th>\n",
              "      <th>총자산평가금액</th>\n",
              "      <th>카드소비금액</th>\n",
              "      <th>온라인의존지수</th>\n",
              "      <th>포미지수</th>\n",
              "      <th>럭셔리지수</th>\n",
              "      <th>럭셔리지수_C</th>\n",
              "      <th>집순이집돌이지수</th>\n",
              "      <th>워라밸지수</th>\n",
              "      <th>욜로지수</th>\n",
              "      <th>욜로지수_H</th>\n",
              "    </tr>\n",
              "  </thead>\n",
              "  <tbody>\n",
              "    <tr>\n",
              "      <th>15</th>\n",
              "      <td>A100086</td>\n",
              "      <td>1</td>\n",
              "      <td>15168000</td>\n",
              "      <td>1553000</td>\n",
              "      <td>1365000</td>\n",
              "      <td>29000</td>\n",
              "      <td>2032000</td>\n",
              "      <td>2547000</td>\n",
              "      <td>26894300</td>\n",
              "      <td>280800</td>\n",
              "      <td>5</td>\n",
              "      <td>4</td>\n",
              "      <td>3.00000</td>\n",
              "      <td>3.00000</td>\n",
              "      <td>5.00000</td>\n",
              "      <td>1.00000</td>\n",
              "      <td>5.00000</td>\n",
              "      <td>5.00000</td>\n",
              "    </tr>\n",
              "    <tr>\n",
              "      <th>16</th>\n",
              "      <td>A100086</td>\n",
              "      <td>3</td>\n",
              "      <td>25642000</td>\n",
              "      <td>1567000</td>\n",
              "      <td>6273000</td>\n",
              "      <td>1346000</td>\n",
              "      <td>3711000</td>\n",
              "      <td>18000000</td>\n",
              "      <td>50816400</td>\n",
              "      <td>846700</td>\n",
              "      <td>1</td>\n",
              "      <td>3</td>\n",
              "      <td>3.00000</td>\n",
              "      <td>3.00000</td>\n",
              "      <td>5.00000</td>\n",
              "      <td>4.00000</td>\n",
              "      <td>4.00000</td>\n",
              "      <td>4.00000</td>\n",
              "    </tr>\n",
              "    <tr>\n",
              "      <th>17</th>\n",
              "      <td>A100086</td>\n",
              "      <td>4</td>\n",
              "      <td>10705000</td>\n",
              "      <td>308000</td>\n",
              "      <td>1939000</td>\n",
              "      <td>484000</td>\n",
              "      <td>1573000</td>\n",
              "      <td>8032000</td>\n",
              "      <td>40510480</td>\n",
              "      <td>504700</td>\n",
              "      <td>1</td>\n",
              "      <td>3</td>\n",
              "      <td>4.00000</td>\n",
              "      <td>3.00000</td>\n",
              "      <td>5.00000</td>\n",
              "      <td>2.00000</td>\n",
              "      <td>5.00000</td>\n",
              "      <td>4.00000</td>\n",
              "    </tr>\n",
              "    <tr>\n",
              "      <th>18</th>\n",
              "      <td>A100086</td>\n",
              "      <td>2</td>\n",
              "      <td>4044000</td>\n",
              "      <td>25000</td>\n",
              "      <td>17000</td>\n",
              "      <td>63000</td>\n",
              "      <td>237000</td>\n",
              "      <td>2645000</td>\n",
              "      <td>10241190</td>\n",
              "      <td>164600</td>\n",
              "      <td>2</td>\n",
              "      <td>2</td>\n",
              "      <td>3.00000</td>\n",
              "      <td>2.00000</td>\n",
              "      <td>5.00000</td>\n",
              "      <td>3.00000</td>\n",
              "      <td>1.00000</td>\n",
              "      <td>5.00000</td>\n",
              "    </tr>\n",
              "    <tr>\n",
              "      <th>19</th>\n",
              "      <td>A100086</td>\n",
              "      <td>5</td>\n",
              "      <td>854000</td>\n",
              "      <td>0</td>\n",
              "      <td>233000</td>\n",
              "      <td>200000</td>\n",
              "      <td>85000</td>\n",
              "      <td>1062000</td>\n",
              "      <td>10049890</td>\n",
              "      <td>42200</td>\n",
              "      <td>2</td>\n",
              "      <td>2</td>\n",
              "      <td>2.00000</td>\n",
              "      <td>3.00000</td>\n",
              "      <td>5.00000</td>\n",
              "      <td>3.00000</td>\n",
              "      <td>1.00000</td>\n",
              "      <td>5.00000</td>\n",
              "    </tr>\n",
              "    <tr>\n",
              "      <th>108523</th>\n",
              "      <td>A100086</td>\n",
              "      <td>1</td>\n",
              "      <td>17491000</td>\n",
              "      <td>1261000</td>\n",
              "      <td>1396000</td>\n",
              "      <td>178000</td>\n",
              "      <td>5646000</td>\n",
              "      <td>7865000</td>\n",
              "      <td>28398330</td>\n",
              "      <td>322500</td>\n",
              "      <td>5</td>\n",
              "      <td>5</td>\n",
              "      <td>4.00000</td>\n",
              "      <td>3.00000</td>\n",
              "      <td>4.00000</td>\n",
              "      <td>5.00000</td>\n",
              "      <td>1.00000</td>\n",
              "      <td>5.00000</td>\n",
              "    </tr>\n",
              "    <tr>\n",
              "      <th>108524</th>\n",
              "      <td>A100086</td>\n",
              "      <td>3</td>\n",
              "      <td>29802000</td>\n",
              "      <td>1668000</td>\n",
              "      <td>6157000</td>\n",
              "      <td>4718103</td>\n",
              "      <td>8303000</td>\n",
              "      <td>15471000</td>\n",
              "      <td>51310700</td>\n",
              "      <td>883500</td>\n",
              "      <td>4</td>\n",
              "      <td>4</td>\n",
              "      <td>3.00000</td>\n",
              "      <td>3.00000</td>\n",
              "      <td>3.00000</td>\n",
              "      <td>4.00000</td>\n",
              "      <td>3.00000</td>\n",
              "      <td>3.00000</td>\n",
              "    </tr>\n",
              "    <tr>\n",
              "      <th>108525</th>\n",
              "      <td>A100086</td>\n",
              "      <td>4</td>\n",
              "      <td>13170000</td>\n",
              "      <td>0</td>\n",
              "      <td>2298000</td>\n",
              "      <td>1378000</td>\n",
              "      <td>6894000</td>\n",
              "      <td>8620000</td>\n",
              "      <td>41751660</td>\n",
              "      <td>421000</td>\n",
              "      <td>3</td>\n",
              "      <td>5</td>\n",
              "      <td>3.00000</td>\n",
              "      <td>3.00000</td>\n",
              "      <td>3.00000</td>\n",
              "      <td>3.00000</td>\n",
              "      <td>1.00000</td>\n",
              "      <td>5.00000</td>\n",
              "    </tr>\n",
              "    <tr>\n",
              "      <th>108526</th>\n",
              "      <td>A100086</td>\n",
              "      <td>2</td>\n",
              "      <td>4163000</td>\n",
              "      <td>0</td>\n",
              "      <td>27000</td>\n",
              "      <td>149000</td>\n",
              "      <td>935000</td>\n",
              "      <td>1717000</td>\n",
              "      <td>10684880</td>\n",
              "      <td>191500</td>\n",
              "      <td>3</td>\n",
              "      <td>3</td>\n",
              "      <td>3.00000</td>\n",
              "      <td>2.00000</td>\n",
              "      <td>4.00000</td>\n",
              "      <td>4.00000</td>\n",
              "      <td>1.00000</td>\n",
              "      <td>5.00000</td>\n",
              "    </tr>\n",
              "    <tr>\n",
              "      <th>108527</th>\n",
              "      <td>A100086</td>\n",
              "      <td>5</td>\n",
              "      <td>1880000</td>\n",
              "      <td>0</td>\n",
              "      <td>387000</td>\n",
              "      <td>50000</td>\n",
              "      <td>297000</td>\n",
              "      <td>716000</td>\n",
              "      <td>9040930</td>\n",
              "      <td>46900</td>\n",
              "      <td>2</td>\n",
              "      <td>3</td>\n",
              "      <td>3.00000</td>\n",
              "      <td>3.00000</td>\n",
              "      <td>4.00000</td>\n",
              "      <td>2.00000</td>\n",
              "      <td>1.00000</td>\n",
              "      <td>5.00000</td>\n",
              "    </tr>\n",
              "    <tr>\n",
              "      <th>217067</th>\n",
              "      <td>A100086</td>\n",
              "      <td>1</td>\n",
              "      <td>20832000</td>\n",
              "      <td>1142000</td>\n",
              "      <td>1733000</td>\n",
              "      <td>93000</td>\n",
              "      <td>5642000</td>\n",
              "      <td>8201000</td>\n",
              "      <td>29075110</td>\n",
              "      <td>337000</td>\n",
              "      <td>5</td>\n",
              "      <td>4</td>\n",
              "      <td>4.00000</td>\n",
              "      <td>3.00000</td>\n",
              "      <td>5.00000</td>\n",
              "      <td>4.00000</td>\n",
              "      <td>3.00000</td>\n",
              "      <td>4.00000</td>\n",
              "    </tr>\n",
              "    <tr>\n",
              "      <th>217068</th>\n",
              "      <td>A100086</td>\n",
              "      <td>3</td>\n",
              "      <td>26096000</td>\n",
              "      <td>1760000</td>\n",
              "      <td>5155000</td>\n",
              "      <td>433000</td>\n",
              "      <td>6877000</td>\n",
              "      <td>15216000</td>\n",
              "      <td>55107580</td>\n",
              "      <td>940200</td>\n",
              "      <td>4</td>\n",
              "      <td>3</td>\n",
              "      <td>4.00000</td>\n",
              "      <td>3.00000</td>\n",
              "      <td>5.00000</td>\n",
              "      <td>3.00000</td>\n",
              "      <td>1.00000</td>\n",
              "      <td>1.00000</td>\n",
              "    </tr>\n",
              "    <tr>\n",
              "      <th>217069</th>\n",
              "      <td>A100086</td>\n",
              "      <td>4</td>\n",
              "      <td>10368000</td>\n",
              "      <td>0</td>\n",
              "      <td>2710000</td>\n",
              "      <td>333000</td>\n",
              "      <td>3894000</td>\n",
              "      <td>8838000</td>\n",
              "      <td>43944180</td>\n",
              "      <td>441300</td>\n",
              "      <td>4</td>\n",
              "      <td>4</td>\n",
              "      <td>3.00000</td>\n",
              "      <td>3.00000</td>\n",
              "      <td>3.00000</td>\n",
              "      <td>3.00000</td>\n",
              "      <td>3.00000</td>\n",
              "      <td>3.00000</td>\n",
              "    </tr>\n",
              "    <tr>\n",
              "      <th>217070</th>\n",
              "      <td>A100086</td>\n",
              "      <td>2</td>\n",
              "      <td>4647000</td>\n",
              "      <td>28000</td>\n",
              "      <td>329000</td>\n",
              "      <td>15000</td>\n",
              "      <td>455000</td>\n",
              "      <td>2972000</td>\n",
              "      <td>11482940</td>\n",
              "      <td>148000</td>\n",
              "      <td>4</td>\n",
              "      <td>3</td>\n",
              "      <td>3.00000</td>\n",
              "      <td>3.00000</td>\n",
              "      <td>4.00000</td>\n",
              "      <td>2.00000</td>\n",
              "      <td>2.00000</td>\n",
              "      <td>3.00000</td>\n",
              "    </tr>\n",
              "    <tr>\n",
              "      <th>217071</th>\n",
              "      <td>A100086</td>\n",
              "      <td>5</td>\n",
              "      <td>1926000</td>\n",
              "      <td>0</td>\n",
              "      <td>375000</td>\n",
              "      <td>286000</td>\n",
              "      <td>111000</td>\n",
              "      <td>445000</td>\n",
              "      <td>9922910</td>\n",
              "      <td>50700</td>\n",
              "      <td>2</td>\n",
              "      <td>2</td>\n",
              "      <td>2.00000</td>\n",
              "      <td>3.00000</td>\n",
              "      <td>3.00000</td>\n",
              "      <td>2.00000</td>\n",
              "      <td>1.00000</td>\n",
              "      <td>5.00000</td>\n",
              "    </tr>\n",
              "    <tr>\n",
              "      <th>325651</th>\n",
              "      <td>A100086</td>\n",
              "      <td>1</td>\n",
              "      <td>20830000</td>\n",
              "      <td>1069000</td>\n",
              "      <td>1814000</td>\n",
              "      <td>667000</td>\n",
              "      <td>3950000</td>\n",
              "      <td>8746103</td>\n",
              "      <td>29448270</td>\n",
              "      <td>370500</td>\n",
              "      <td>5</td>\n",
              "      <td>4</td>\n",
              "      <td>4.00000</td>\n",
              "      <td>3.00000</td>\n",
              "      <td>2.00000</td>\n",
              "      <td>5.00000</td>\n",
              "      <td>3.00000</td>\n",
              "      <td>3.00000</td>\n",
              "    </tr>\n",
              "    <tr>\n",
              "      <th>325652</th>\n",
              "      <td>A100086</td>\n",
              "      <td>3</td>\n",
              "      <td>24390000</td>\n",
              "      <td>1030000</td>\n",
              "      <td>6453000</td>\n",
              "      <td>2117000</td>\n",
              "      <td>8912000</td>\n",
              "      <td>20822000</td>\n",
              "      <td>57365650</td>\n",
              "      <td>891300</td>\n",
              "      <td>5</td>\n",
              "      <td>3</td>\n",
              "      <td>4.00000</td>\n",
              "      <td>3.00000</td>\n",
              "      <td>3.00000</td>\n",
              "      <td>4.00000</td>\n",
              "      <td>2.00000</td>\n",
              "      <td>1.00000</td>\n",
              "    </tr>\n",
              "    <tr>\n",
              "      <th>325653</th>\n",
              "      <td>A100086</td>\n",
              "      <td>4</td>\n",
              "      <td>11424000</td>\n",
              "      <td>0</td>\n",
              "      <td>4232000</td>\n",
              "      <td>576000</td>\n",
              "      <td>3361000</td>\n",
              "      <td>8708000</td>\n",
              "      <td>45168830</td>\n",
              "      <td>452300</td>\n",
              "      <td>1</td>\n",
              "      <td>4</td>\n",
              "      <td>4.00000</td>\n",
              "      <td>4.00000</td>\n",
              "      <td>4.00000</td>\n",
              "      <td>4.00000</td>\n",
              "      <td>3.00000</td>\n",
              "      <td>3.00000</td>\n",
              "    </tr>\n",
              "    <tr>\n",
              "      <th>325654</th>\n",
              "      <td>A100086</td>\n",
              "      <td>2</td>\n",
              "      <td>6106000</td>\n",
              "      <td>0</td>\n",
              "      <td>282000</td>\n",
              "      <td>143000</td>\n",
              "      <td>578000</td>\n",
              "      <td>5252000</td>\n",
              "      <td>12079570</td>\n",
              "      <td>174800</td>\n",
              "      <td>5</td>\n",
              "      <td>3</td>\n",
              "      <td>3.00000</td>\n",
              "      <td>3.00000</td>\n",
              "      <td>1.00000</td>\n",
              "      <td>3.00000</td>\n",
              "      <td>1.00000</td>\n",
              "      <td>5.00000</td>\n",
              "    </tr>\n",
              "    <tr>\n",
              "      <th>325655</th>\n",
              "      <td>A100086</td>\n",
              "      <td>5</td>\n",
              "      <td>2460000</td>\n",
              "      <td>0</td>\n",
              "      <td>398000</td>\n",
              "      <td>503000</td>\n",
              "      <td>698000</td>\n",
              "      <td>3563000</td>\n",
              "      <td>10420440</td>\n",
              "      <td>44300</td>\n",
              "      <td>1</td>\n",
              "      <td>4</td>\n",
              "      <td>2.00000</td>\n",
              "      <td>4.00000</td>\n",
              "      <td>2.00000</td>\n",
              "      <td>3.00000</td>\n",
              "      <td>1.00000</td>\n",
              "      <td>5.00000</td>\n",
              "    </tr>\n",
              "  </tbody>\n",
              "</table>\n",
              "</div>"
            ],
            "text/plain": [
              "        아파트단지코드  라이프스테이지    요식이용금액   유흥이용금액  백화점이용금액  자동차서비스/용품이용금액  \\\n",
              "15      A100086        1  15168000  1553000  1365000          29000   \n",
              "16      A100086        3  25642000  1567000  6273000        1346000   \n",
              "17      A100086        4  10705000   308000  1939000         484000   \n",
              "18      A100086        2   4044000    25000    17000          63000   \n",
              "19      A100086        5    854000        0   233000         200000   \n",
              "108523  A100086        1  17491000  1261000  1396000         178000   \n",
              "108524  A100086        3  29802000  1668000  6157000        4718103   \n",
              "108525  A100086        4  13170000        0  2298000        1378000   \n",
              "108526  A100086        2   4163000        0    27000         149000   \n",
              "108527  A100086        5   1880000        0   387000          50000   \n",
              "217067  A100086        1  20832000  1142000  1733000          93000   \n",
              "217068  A100086        3  26096000  1760000  5155000         433000   \n",
              "217069  A100086        4  10368000        0  2710000         333000   \n",
              "217070  A100086        2   4647000    28000   329000          15000   \n",
              "217071  A100086        5   1926000        0   375000         286000   \n",
              "325651  A100086        1  20830000  1069000  1814000         667000   \n",
              "325652  A100086        3  24390000  1030000  6453000        2117000   \n",
              "325653  A100086        4  11424000        0  4232000         576000   \n",
              "325654  A100086        2   6106000        0   282000         143000   \n",
              "325655  A100086        5   2460000        0   398000         503000   \n",
              "\n",
              "        스포츠/문화/레저이용금액  가정생활/서비스이용금액   총자산평가금액  카드소비금액  온라인의존지수  포미지수   럭셔리지수  \\\n",
              "15            2032000       2547000  26894300  280800        5     4 3.00000   \n",
              "16            3711000      18000000  50816400  846700        1     3 3.00000   \n",
              "17            1573000       8032000  40510480  504700        1     3 4.00000   \n",
              "18             237000       2645000  10241190  164600        2     2 3.00000   \n",
              "19              85000       1062000  10049890   42200        2     2 2.00000   \n",
              "108523        5646000       7865000  28398330  322500        5     5 4.00000   \n",
              "108524        8303000      15471000  51310700  883500        4     4 3.00000   \n",
              "108525        6894000       8620000  41751660  421000        3     5 3.00000   \n",
              "108526         935000       1717000  10684880  191500        3     3 3.00000   \n",
              "108527         297000        716000   9040930   46900        2     3 3.00000   \n",
              "217067        5642000       8201000  29075110  337000        5     4 4.00000   \n",
              "217068        6877000      15216000  55107580  940200        4     3 4.00000   \n",
              "217069        3894000       8838000  43944180  441300        4     4 3.00000   \n",
              "217070         455000       2972000  11482940  148000        4     3 3.00000   \n",
              "217071         111000        445000   9922910   50700        2     2 2.00000   \n",
              "325651        3950000       8746103  29448270  370500        5     4 4.00000   \n",
              "325652        8912000      20822000  57365650  891300        5     3 4.00000   \n",
              "325653        3361000       8708000  45168830  452300        1     4 4.00000   \n",
              "325654         578000       5252000  12079570  174800        5     3 3.00000   \n",
              "325655         698000       3563000  10420440   44300        1     4 2.00000   \n",
              "\n",
              "        럭셔리지수_C  집순이집돌이지수   워라밸지수    욜로지수  욜로지수_H  \n",
              "15      3.00000   5.00000 1.00000 5.00000 5.00000  \n",
              "16      3.00000   5.00000 4.00000 4.00000 4.00000  \n",
              "17      3.00000   5.00000 2.00000 5.00000 4.00000  \n",
              "18      2.00000   5.00000 3.00000 1.00000 5.00000  \n",
              "19      3.00000   5.00000 3.00000 1.00000 5.00000  \n",
              "108523  3.00000   4.00000 5.00000 1.00000 5.00000  \n",
              "108524  3.00000   3.00000 4.00000 3.00000 3.00000  \n",
              "108525  3.00000   3.00000 3.00000 1.00000 5.00000  \n",
              "108526  2.00000   4.00000 4.00000 1.00000 5.00000  \n",
              "108527  3.00000   4.00000 2.00000 1.00000 5.00000  \n",
              "217067  3.00000   5.00000 4.00000 3.00000 4.00000  \n",
              "217068  3.00000   5.00000 3.00000 1.00000 1.00000  \n",
              "217069  3.00000   3.00000 3.00000 3.00000 3.00000  \n",
              "217070  3.00000   4.00000 2.00000 2.00000 3.00000  \n",
              "217071  3.00000   3.00000 2.00000 1.00000 5.00000  \n",
              "325651  3.00000   2.00000 5.00000 3.00000 3.00000  \n",
              "325652  3.00000   3.00000 4.00000 2.00000 1.00000  \n",
              "325653  4.00000   4.00000 4.00000 3.00000 3.00000  \n",
              "325654  3.00000   1.00000 3.00000 1.00000 5.00000  \n",
              "325655  4.00000   2.00000 3.00000 1.00000 5.00000  "
            ]
          },
          "execution_count": 236,
          "metadata": {},
          "output_type": "execute_result"
        }
      ],
      "source": [
        "newdf=df[df[\"아파트단지코드\"]==\"A100086\"]\n",
        "newdf\n"
      ]
    },
    {
      "cell_type": "code",
      "execution_count": null,
      "metadata": {
        "id": "59fc4340",
        "outputId": "c276a6eb-cd05-439f-956a-792510a81a75"
      },
      "outputs": [
        {
          "data": {
            "text/html": [
              "<div>\n",
              "<style scoped>\n",
              "    .dataframe tbody tr th:only-of-type {\n",
              "        vertical-align: middle;\n",
              "    }\n",
              "\n",
              "    .dataframe tbody tr th {\n",
              "        vertical-align: top;\n",
              "    }\n",
              "\n",
              "    .dataframe thead th {\n",
              "        text-align: right;\n",
              "    }\n",
              "</style>\n",
              "<table border=\"1\" class=\"dataframe\">\n",
              "  <thead>\n",
              "    <tr style=\"text-align: right;\">\n",
              "      <th></th>\n",
              "      <th>아파트단지코드</th>\n",
              "      <th>라이프스테이지</th>\n",
              "      <th>총자산평가금액</th>\n",
              "      <th>카드소비금액</th>\n",
              "    </tr>\n",
              "  </thead>\n",
              "  <tbody>\n",
              "    <tr>\n",
              "      <th>108523</th>\n",
              "      <td>A100086</td>\n",
              "      <td>1</td>\n",
              "      <td>28398330</td>\n",
              "      <td>322500</td>\n",
              "    </tr>\n",
              "  </tbody>\n",
              "</table>\n",
              "</div>"
            ],
            "text/plain": [
              "        아파트단지코드  라이프스테이지   총자산평가금액  카드소비금액\n",
              "108523  A100086        1  28398330  322500"
            ]
          },
          "execution_count": 237,
          "metadata": {},
          "output_type": "execute_result"
        }
      ],
      "source": [
        "newdf[5:6][[\"아파트단지코드\",\"라이프스테이지\",\"총자산평가금액\",\"카드소비금액\"]]"
      ]
    },
    {
      "cell_type": "code",
      "execution_count": null,
      "metadata": {
        "id": "7c2b5d0a"
      },
      "outputs": [],
      "source": [
        "mbti_lf=newdf[[\"온라인의존지수\",\"포미지수\",\"럭셔리지수\",\"집순이집돌이지수\",\"워라밸지수\",\"욜로지수\"]]\n",
        "mbti_lf=mbti_lf[5:6]\n",
        "\n",
        "mbti_ps=newdf[[\"온라인의존지수\",\"포미지수\",\"럭셔리지수\",\"럭셔리지수_C\",\"욜로지수\",\"욜로지수_H\"]]\n",
        "mbti_ps=mbti_ps[5:6]"
      ]
    },
    {
      "cell_type": "code",
      "execution_count": null,
      "metadata": {
        "id": "53826bc5"
      },
      "outputs": [],
      "source": [
        "lf=mbti_lf.reset_index(drop=True)\n",
        "ps=mbti_ps.reset_index(drop=True)"
      ]
    },
    {
      "cell_type": "code",
      "execution_count": null,
      "metadata": {
        "id": "c0687857",
        "outputId": "386fa37e-1172-4abc-ae8b-dfb2f4cad9cc"
      },
      "outputs": [
        {
          "data": {
            "image/png": "[encoded data removed]",
            "text/plain": [
              "<Figure size 1080x1440 with 1 Axes>"
            ]
          },
          "metadata": {},
          "output_type": "display_data"
        }
      ],
      "source": [
        "labels=lf.columns[0:]\n",
        "num_labels=len(labels)\n",
        "\n",
        "angles=[x/float(num_labels)*(2*pi) for x in range(num_labels)]\n",
        "angles+=angles[:1]\n",
        "\n",
        "my_palette=plt.cm.get_cmap(\"Set2\",len(lf.index))\n",
        "fig=plt.figure(figsize=(15,20))\n",
        "fig.set_facecolor(\"white\")\n",
        "\n",
        "for i, row in lf.iterrows():\n",
        "    color=my_palette(i)\n",
        "    data=lf.iloc[i].tolist()\n",
        "    data+=data[:1]\n",
        "    \n",
        "    ax=plt.subplot(3,2,i+1,polar=True)\n",
        "    ax.set_theta_offset(pi/2)\n",
        "    ax.set_theta_direction(-1)\n",
        "    \n",
        "    plt.xticks(angles[:-1], labels, fontsize=13)\n",
        "    ax.tick_params(axis=\"x\", which=\"major\", pad=15)\n",
        "    \n",
        "    ax.set_rlabel_position(0)\n",
        "    plt.yticks([1,2,3,4,5],[\"1\",\"2\",\"3\",\"4\",\"5\"], fontsize=10)\n",
        "    plt.ylim(0,5)\n",
        "    \n",
        "    ax.plot(angles,data,color=color, linewidth=2, linestyle=\"solid\")\n",
        "    ax.fill(angles, data, color=color, alpha=0.4)\n",
        "    \n",
        "    plt.title(row[0], size=20,color=color, x=-0.2, y=1.2, ha='left')\n",
        "    \n",
        "plt.tight_layout(pad=10)\n",
        "plt.show()"
      ]
    },
    {
      "cell_type": "code",
      "execution_count": null,
      "metadata": {
        "id": "ecad40ca",
        "outputId": "4588b6a6-4bff-4897-ebda-c94c8d7e7d6f"
      },
      "outputs": [
        {
          "data": {
            "image/png": "[encoded data removed]",
            "text/plain": [
              "<Figure size 1080x1440 with 1 Axes>"
            ]
          },
          "metadata": {},
          "output_type": "display_data"
        }
      ],
      "source": [
        "labels=ps.columns[0:]\n",
        "num_labels=len(labels)\n",
        "\n",
        "angles=[x/float(num_labels)*(2*pi) for x in range(num_labels)]\n",
        "angles+=angles[:1]\n",
        "\n",
        "my_palette=plt.cm.get_cmap(\"Set2\",len(ps.index))\n",
        "fig=plt.figure(figsize=(15,20))\n",
        "fig.set_facecolor(\"white\")\n",
        "\n",
        "for i, row in ps.iterrows():\n",
        "    color=my_palette(i)\n",
        "    data=ps.iloc[i].tolist()\n",
        "    data+=data[:1]\n",
        "    \n",
        "    ax=plt.subplot(3,2,i+1,polar=True)\n",
        "    ax.set_theta_offset(pi/2)\n",
        "    ax.set_theta_direction(-1)\n",
        "    \n",
        "    plt.xticks(angles[:-1], labels, fontsize=13)\n",
        "    ax.tick_params(axis=\"x\", which=\"major\", pad=15)\n",
        "    \n",
        "    ax.set_rlabel_position(0)\n",
        "    plt.yticks([1,2,3,4,5],[\"1\",\"2\",\"3\",\"4\",\"5\"], fontsize=10)\n",
        "    plt.ylim(0,5)\n",
        "    \n",
        "    ax.plot(angles,data,color=color, linewidth=2, linestyle=\"solid\")\n",
        "    ax.fill(angles, data, color=color, alpha=0.4)\n",
        "    \n",
        "    plt.title(row[0], size=20,color=color, x=-0.2, y=1.2, ha='left')\n",
        "    \n",
        "plt.tight_layout(pad=10)\n",
        "plt.show()"
      ]
    },
    {
      "cell_type": "code",
      "execution_count": null,
      "metadata": {
        "id": "a084a3a6"
      },
      "outputs": [],
      "source": [
        "data2=pd.read_csv('C:/Users/fsecuser117/Desktop/test_3_2.csv')\n",
        "data2.columns=['단지코드', '고객수', '하이엔드_소비수준', '하이엔드_소득수준', '하이엔드_법인대표/전문직',\n",
        "              '추정연소득', '연간카드소비금액', '순자산평가금액', '최근차량할부약정액', '차량보유(국산)', '차량보유(수입)',\n",
        "              '20대', '30대', '40대', '50대', '60대', '70대이상', '싱글', '신혼및어린이자녀', '청소년자녀', '성인자녀', '실버',\n",
        "               '명품구매여부', '앱구매등급', '디지털음악이용', '게임이용등급', '골프이용등급', '애완동물관심등급', '국내여행등급', '자동자이용여부',\n",
        "               '선호쇼핑_대형할인점', '선호쇼핑_백화점', '선호쇼핑_브랜드', '선호쇼핑_슈퍼마켓', '선호쇼핑_아울렛',\n",
        "               '고궁', '공연장', '관광지', '국립공원', '놀이시설','동물원', '레프팅', '미술관', '박물관', '식물원', '자연휴양림',\n",
        "               '골프장', '낚시터', '놀이시설', '레프팅', '볼링장', '스키장', '실내골프', '체험장', '캠핑장', '헬스스포츠']"
      ]
    },
    {
      "cell_type": "code",
      "execution_count": null,
      "metadata": {
        "id": "4a13cc09",
        "outputId": "9f7f16d2-fc16-483f-b4c6-4ab6f01dc966"
      },
      "outputs": [
        {
          "data": {
            "text/plain": [
              "22111"
            ]
          },
          "execution_count": 243,
          "metadata": {},
          "output_type": "execute_result"
        }
      ],
      "source": [
        "len(data2['단지코드'].unique())"
      ]
    },
    {
      "cell_type": "code",
      "execution_count": null,
      "metadata": {
        "id": "354577d9"
      },
      "outputs": [],
      "source": [
        "# 럭셔리지수\n",
        "# 하이엔드_소비수준, 하이엔드_소득수준, 하이엔드_법인대표/전문직 -고객수\n",
        "# 추정연소득, 연간카드소비금액, 순자산평가금액\n",
        "# 명품구매여부"
      ]
    },
    {
      "cell_type": "code",
      "execution_count": null,
      "metadata": {
        "id": "80cf71de"
      },
      "outputs": [],
      "source": [
        "example=data2[data2[\"단지코드\"]==\"A100086\"]"
      ]
    },
    {
      "cell_type": "code",
      "execution_count": null,
      "metadata": {
        "id": "e283adc7",
        "outputId": "b0800e02-8b7c-470e-94da-3b32a6dbfa3b"
      },
      "outputs": [
        {
          "data": {
            "text/html": [
              "<div>\n",
              "<style scoped>\n",
              "    .dataframe tbody tr th:only-of-type {\n",
              "        vertical-align: middle;\n",
              "    }\n",
              "\n",
              "    .dataframe tbody tr th {\n",
              "        vertical-align: top;\n",
              "    }\n",
              "\n",
              "    .dataframe thead th {\n",
              "        text-align: right;\n",
              "    }\n",
              "</style>\n",
              "<table border=\"1\" class=\"dataframe\">\n",
              "  <thead>\n",
              "    <tr style=\"text-align: right;\">\n",
              "      <th></th>\n",
              "      <th>하이엔드_소비수준</th>\n",
              "      <th>하이엔드_소득수준</th>\n",
              "      <th>하이엔드_법인대표/전문직</th>\n",
              "    </tr>\n",
              "  </thead>\n",
              "  <tbody>\n",
              "    <tr>\n",
              "      <th>3</th>\n",
              "      <td>19</td>\n",
              "      <td>27</td>\n",
              "      <td>4</td>\n",
              "    </tr>\n",
              "  </tbody>\n",
              "</table>\n",
              "</div>"
            ],
            "text/plain": [
              "   하이엔드_소비수준  하이엔드_소득수준  하이엔드_법인대표/전문직\n",
              "3         19         27              4"
            ]
          },
          "execution_count": 246,
          "metadata": {},
          "output_type": "execute_result"
        }
      ],
      "source": [
        "highend=example[[\"하이엔드_소비수준\", \"하이엔드_소득수준\", \"하이엔드_법인대표/전문직\"]]\n",
        "highend"
      ]
    },
    {
      "cell_type": "code",
      "execution_count": null,
      "metadata": {
        "id": "dd9f89e6",
        "outputId": "16bbc574-3225-4656-8bcf-8820148d0d0d"
      },
      "outputs": [
        {
          "data": {
            "text/html": [
              "<div>\n",
              "<style scoped>\n",
              "    .dataframe tbody tr th:only-of-type {\n",
              "        vertical-align: middle;\n",
              "    }\n",
              "\n",
              "    .dataframe tbody tr th {\n",
              "        vertical-align: top;\n",
              "    }\n",
              "\n",
              "    .dataframe thead th {\n",
              "        text-align: right;\n",
              "    }\n",
              "</style>\n",
              "<table border=\"1\" class=\"dataframe\">\n",
              "  <thead>\n",
              "    <tr style=\"text-align: right;\">\n",
              "      <th></th>\n",
              "      <th>추정연소득</th>\n",
              "      <th>연간카드소비금액</th>\n",
              "      <th>순자산평가금액</th>\n",
              "    </tr>\n",
              "  </thead>\n",
              "  <tbody>\n",
              "    <tr>\n",
              "      <th>3</th>\n",
              "      <td>13355790</td>\n",
              "      <td>7554300</td>\n",
              "      <td>145655250</td>\n",
              "    </tr>\n",
              "  </tbody>\n",
              "</table>\n",
              "</div>"
            ],
            "text/plain": [
              "      추정연소득  연간카드소비금액    순자산평가금액\n",
              "3  13355790   7554300  145655250"
            ]
          },
          "execution_count": 247,
          "metadata": {},
          "output_type": "execute_result"
        }
      ],
      "source": [
        "asset=example[[\"추정연소득\", \"연간카드소비금액\", \"순자산평가금액\"]]\n",
        "asset"
      ]
    },
    {
      "cell_type": "code",
      "execution_count": null,
      "metadata": {
        "id": "79d7afba",
        "outputId": "13ee3a36-6695-46f9-c931-6406eba4f48d"
      },
      "outputs": [
        {
          "data": {
            "text/html": [
              "<div>\n",
              "<style scoped>\n",
              "    .dataframe tbody tr th:only-of-type {\n",
              "        vertical-align: middle;\n",
              "    }\n",
              "\n",
              "    .dataframe tbody tr th {\n",
              "        vertical-align: top;\n",
              "    }\n",
              "\n",
              "    .dataframe thead th {\n",
              "        text-align: right;\n",
              "    }\n",
              "</style>\n",
              "<table border=\"1\" class=\"dataframe\">\n",
              "  <thead>\n",
              "    <tr style=\"text-align: right;\">\n",
              "      <th></th>\n",
              "      <th>명품구매여부</th>\n",
              "    </tr>\n",
              "  </thead>\n",
              "  <tbody>\n",
              "    <tr>\n",
              "      <th>3</th>\n",
              "      <td>3</td>\n",
              "    </tr>\n",
              "  </tbody>\n",
              "</table>\n",
              "</div>"
            ],
            "text/plain": [
              "   명품구매여부\n",
              "3       3"
            ]
          },
          "execution_count": 248,
          "metadata": {},
          "output_type": "execute_result"
        }
      ],
      "source": [
        "lux=example[[\"명품구매여부\"]]\n",
        "lux"
      ]
    },
    {
      "cell_type": "code",
      "execution_count": null,
      "metadata": {
        "id": "ed3b1c1b",
        "outputId": "81792cc7-2afe-491e-e59a-cd8b1adb091b"
      },
      "outputs": [
        {
          "data": {
            "text/plain": [
              "1.545791687395414"
            ]
          },
          "execution_count": 249,
          "metadata": {},
          "output_type": "execute_result"
        }
      ],
      "source": [
        "lux_avg=data2[\"명품구매여부\"].mean()\n",
        "lux_avg"
      ]
    },
    {
      "cell_type": "code",
      "execution_count": null,
      "metadata": {
        "id": "9b88070b",
        "outputId": "091de922-ed9e-45ad-9598-4d5b50448ddb"
      },
      "outputs": [
        {
          "data": {
            "image/png": "[encoded data removed]",
            "text/plain": [
              "<Figure size 720x360 with 2 Axes>"
            ]
          },
          "metadata": {
            "needs_background": "light"
          },
          "output_type": "display_data"
        }
      ],
      "source": [
        "fig=plt.figure(figsize=(10, 5))\n",
        "\n",
        "plt.subplot(121)\n",
        "sns.set_palette(\"pastel\")\n",
        "a=sns.barplot(data=highend)\n",
        "a.set_title(\"럭셔리지수_1_하이엔드 관련 고객 수\")\n",
        "\n",
        "\n",
        "plt.subplot(122)\n",
        "b=sns.barplot(data=asset)\n",
        "b.set_title(\"럭셔리지수_2_추정 자산 및 소비(단위:천원)\")\n",
        "\n",
        "for p in b.patches:\n",
        "    left, bottom, width, height = p.get_bbox().bounds\n",
        "    b.annotate(\"%1f\"%(height/1e6), (left+width/2, height*1.01), ha=\"center\")\n",
        "    "
      ]
    },
    {
      "cell_type": "code",
      "execution_count": null,
      "metadata": {
        "id": "cb429db0",
        "outputId": "d572e983-2df5-484a-deaa-5613d1ba722e"
      },
      "outputs": [
        {
          "data": {
            "text/html": [
              "<div>\n",
              "<style scoped>\n",
              "    .dataframe tbody tr th:only-of-type {\n",
              "        vertical-align: middle;\n",
              "    }\n",
              "\n",
              "    .dataframe tbody tr th {\n",
              "        vertical-align: top;\n",
              "    }\n",
              "\n",
              "    .dataframe thead th {\n",
              "        text-align: right;\n",
              "    }\n",
              "</style>\n",
              "<table border=\"1\" class=\"dataframe\">\n",
              "  <thead>\n",
              "    <tr style=\"text-align: right;\">\n",
              "      <th></th>\n",
              "      <th>20대</th>\n",
              "      <th>30대</th>\n",
              "      <th>40대</th>\n",
              "      <th>50대</th>\n",
              "      <th>60대</th>\n",
              "      <th>70대이상</th>\n",
              "    </tr>\n",
              "  </thead>\n",
              "  <tbody>\n",
              "    <tr>\n",
              "      <th>3</th>\n",
              "      <td>38</td>\n",
              "      <td>43</td>\n",
              "      <td>66</td>\n",
              "      <td>79</td>\n",
              "      <td>31</td>\n",
              "      <td>11</td>\n",
              "    </tr>\n",
              "  </tbody>\n",
              "</table>\n",
              "</div>"
            ],
            "text/plain": [
              "   20대  30대  40대  50대  60대  70대이상\n",
              "3   38   43   66   79   31     11"
            ]
          },
          "execution_count": 251,
          "metadata": {},
          "output_type": "execute_result"
        }
      ],
      "source": [
        "life=example[['20대', '30대', '40대', '50대', '60대', '70대이상']]\n",
        "life\n"
      ]
    },
    {
      "cell_type": "code",
      "execution_count": null,
      "metadata": {
        "id": "60711afa",
        "outputId": "db1a523e-a4a2-4a5b-8165-1a003bfedd2a"
      },
      "outputs": [
        {
          "data": {
            "text/html": [
              "<div>\n",
              "<style scoped>\n",
              "    .dataframe tbody tr th:only-of-type {\n",
              "        vertical-align: middle;\n",
              "    }\n",
              "\n",
              "    .dataframe tbody tr th {\n",
              "        vertical-align: top;\n",
              "    }\n",
              "\n",
              "    .dataframe thead th {\n",
              "        text-align: right;\n",
              "    }\n",
              "</style>\n",
              "<table border=\"1\" class=\"dataframe\">\n",
              "  <thead>\n",
              "    <tr style=\"text-align: right;\">\n",
              "      <th></th>\n",
              "      <th>싱글</th>\n",
              "      <th>신혼및어린이자녀</th>\n",
              "      <th>청소년자녀</th>\n",
              "      <th>성인자녀</th>\n",
              "      <th>실버</th>\n",
              "    </tr>\n",
              "  </thead>\n",
              "  <tbody>\n",
              "    <tr>\n",
              "      <th>3</th>\n",
              "      <td>63</td>\n",
              "      <td>22</td>\n",
              "      <td>101</td>\n",
              "      <td>63</td>\n",
              "      <td>19</td>\n",
              "    </tr>\n",
              "  </tbody>\n",
              "</table>\n",
              "</div>"
            ],
            "text/plain": [
              "   싱글  신혼및어린이자녀  청소년자녀  성인자녀  실버\n",
              "3  63        22    101    63  19"
            ]
          },
          "execution_count": 252,
          "metadata": {},
          "output_type": "execute_result"
        }
      ],
      "source": [
        "life_1=example[['싱글', '신혼및어린이자녀', '청소년자녀', '성인자녀', '실버']]\n",
        "life_1"
      ]
    },
    {
      "cell_type": "code",
      "execution_count": null,
      "metadata": {
        "id": "46187cbf"
      },
      "outputs": [],
      "source": [
        "ratio=[38, 46, 66, 79, 31, 11]\n",
        "labels=['20대', '30대', '40대', '50대', '60대', '70대이상']"
      ]
    },
    {
      "cell_type": "code",
      "execution_count": null,
      "metadata": {
        "id": "8ff25207"
      },
      "outputs": [],
      "source": [
        "ratio_1=[63, 22, 101, 63, 19]\n",
        "labels_1=['싱글', '신혼및어린이자녀', '청소년 자녀', '성인 자녀', '실버']"
      ]
    },
    {
      "cell_type": "code",
      "execution_count": null,
      "metadata": {
        "id": "22797095",
        "outputId": "229a514e-ed1f-410e-8ddd-8ecf5d7799e0"
      },
      "outputs": [
        {
          "data": {
            "text/plain": [
              "Text(0.5, 1.0, '단지내 라이프스테이지 구성 비율')"
            ]
          },
          "execution_count": 255,
          "metadata": {},
          "output_type": "execute_result"
        },
        {
          "data": {
            "image/png": "[encoded data removed]",
            "text/plain": [
              "<Figure size 1440x360 with 2 Axes>"
            ]
          },
          "metadata": {},
          "output_type": "display_data"
        }
      ],
      "source": [
        "# 단지 정보\n",
        "fig=plt.figure(figsize=(20, 5))\n",
        "wedgeprops= {'width': 0.7, 'edgecolor': 'w', 'linewidth':5}\n",
        "\n",
        "# 구성원 나이\n",
        "plt.subplot(131)\n",
        "plt.pie(ratio, labels=labels, autopct= \"%1.f%%\", wedgeprops=wedgeprops)\n",
        "plt.title(\"아파트 단지내 나이 비율\")\n",
        "\n",
        "# 라이프스테이지 구성\n",
        "plt.subplot(132)\n",
        "plt.pie(ratio_1, labels=labels_1, autopct= \"%1.f%%\",wedgeprops=wedgeprops)\n",
        "plt.title(\"단지내 라이프스테이지 구성 비율\")"
      ]
    },
    {
      "cell_type": "code",
      "execution_count": null,
      "metadata": {
        "id": "51d3f16b",
        "outputId": "f64f8c3b-1932-44ae-8799-013666b48a24"
      },
      "outputs": [
        {
          "data": {
            "text/html": [
              "<div>\n",
              "<style scoped>\n",
              "    .dataframe tbody tr th:only-of-type {\n",
              "        vertical-align: middle;\n",
              "    }\n",
              "\n",
              "    .dataframe tbody tr th {\n",
              "        vertical-align: top;\n",
              "    }\n",
              "\n",
              "    .dataframe thead th {\n",
              "        text-align: right;\n",
              "    }\n",
              "</style>\n",
              "<table border=\"1\" class=\"dataframe\">\n",
              "  <thead>\n",
              "    <tr style=\"text-align: right;\">\n",
              "      <th></th>\n",
              "      <th>선호쇼핑_대형할인점</th>\n",
              "      <th>선호쇼핑_백화점</th>\n",
              "      <th>선호쇼핑_브랜드</th>\n",
              "      <th>선호쇼핑_슈퍼마켓</th>\n",
              "      <th>선호쇼핑_아울렛</th>\n",
              "    </tr>\n",
              "  </thead>\n",
              "  <tbody>\n",
              "    <tr>\n",
              "      <th>3</th>\n",
              "      <td>7</td>\n",
              "      <td>0</td>\n",
              "      <td>179</td>\n",
              "      <td>51</td>\n",
              "      <td>0</td>\n",
              "    </tr>\n",
              "  </tbody>\n",
              "</table>\n",
              "</div>"
            ],
            "text/plain": [
              "   선호쇼핑_대형할인점  선호쇼핑_백화점  선호쇼핑_브랜드  선호쇼핑_슈퍼마켓  선호쇼핑_아울렛\n",
              "3           7         0       179         51         0"
            ]
          },
          "execution_count": 256,
          "metadata": {},
          "output_type": "execute_result"
        }
      ],
      "source": [
        "prefer=example[['선호쇼핑_대형할인점', '선호쇼핑_백화점', '선호쇼핑_브랜드', '선호쇼핑_슈퍼마켓', '선호쇼핑_아울렛']]\n",
        "prefer"
      ]
    },
    {
      "cell_type": "code",
      "execution_count": null,
      "metadata": {
        "id": "ac717a82",
        "outputId": "aaa3fdfc-9c32-418a-f5aa-5914891aa71a"
      },
      "outputs": [
        {
          "data": {
            "text/html": [
              "<div>\n",
              "<style scoped>\n",
              "    .dataframe tbody tr th:only-of-type {\n",
              "        vertical-align: middle;\n",
              "    }\n",
              "\n",
              "    .dataframe tbody tr th {\n",
              "        vertical-align: top;\n",
              "    }\n",
              "\n",
              "    .dataframe thead th {\n",
              "        text-align: right;\n",
              "    }\n",
              "</style>\n",
              "<table border=\"1\" class=\"dataframe\">\n",
              "  <thead>\n",
              "    <tr style=\"text-align: right;\">\n",
              "      <th></th>\n",
              "      <th>고궁</th>\n",
              "      <th>공연장</th>\n",
              "      <th>관광지</th>\n",
              "      <th>국립공원</th>\n",
              "      <th>놀이시설</th>\n",
              "      <th>놀이시설</th>\n",
              "      <th>동물원</th>\n",
              "      <th>레프팅</th>\n",
              "      <th>레프팅</th>\n",
              "      <th>미술관</th>\n",
              "      <th>박물관</th>\n",
              "      <th>식물원</th>\n",
              "      <th>자연휴양림</th>\n",
              "    </tr>\n",
              "  </thead>\n",
              "  <tbody>\n",
              "    <tr>\n",
              "      <th>3</th>\n",
              "      <td>0</td>\n",
              "      <td>14</td>\n",
              "      <td>2</td>\n",
              "      <td>2</td>\n",
              "      <td>0</td>\n",
              "      <td>1</td>\n",
              "      <td>0</td>\n",
              "      <td>0</td>\n",
              "      <td>0</td>\n",
              "      <td>2</td>\n",
              "      <td>159</td>\n",
              "      <td>2</td>\n",
              "      <td>0</td>\n",
              "    </tr>\n",
              "  </tbody>\n",
              "</table>\n",
              "</div>"
            ],
            "text/plain": [
              "   고궁  공연장  관광지  국립공원  놀이시설  놀이시설  동물원  레프팅  레프팅  미술관  박물관  식물원  자연휴양림\n",
              "3   0   14    2     2     0     1    0    0    0    2  159    2      0"
            ]
          },
          "execution_count": 257,
          "metadata": {},
          "output_type": "execute_result"
        }
      ],
      "source": [
        "prefer2=example[['고궁', '공연장', '관광지', '국립공원', '놀이시설','동물원', '레프팅', '미술관', '박물관', '식물원', '자연휴양림']]\n",
        "prefer2"
      ]
    },
    {
      "cell_type": "code",
      "execution_count": null,
      "metadata": {
        "id": "62fc070b",
        "outputId": "54942ead-bafe-4e6e-f937-940efcf50978"
      },
      "outputs": [
        {
          "data": {
            "text/html": [
              "<div>\n",
              "<style scoped>\n",
              "    .dataframe tbody tr th:only-of-type {\n",
              "        vertical-align: middle;\n",
              "    }\n",
              "\n",
              "    .dataframe tbody tr th {\n",
              "        vertical-align: top;\n",
              "    }\n",
              "\n",
              "    .dataframe thead th {\n",
              "        text-align: right;\n",
              "    }\n",
              "</style>\n",
              "<table border=\"1\" class=\"dataframe\">\n",
              "  <thead>\n",
              "    <tr style=\"text-align: right;\">\n",
              "      <th></th>\n",
              "      <th>골프장</th>\n",
              "      <th>낚시터</th>\n",
              "      <th>놀이시설</th>\n",
              "      <th>놀이시설</th>\n",
              "      <th>레프팅</th>\n",
              "      <th>레프팅</th>\n",
              "      <th>볼링장</th>\n",
              "      <th>스키장</th>\n",
              "      <th>실내골프</th>\n",
              "      <th>체험장</th>\n",
              "      <th>캠핑장</th>\n",
              "      <th>헬스스포츠</th>\n",
              "    </tr>\n",
              "  </thead>\n",
              "  <tbody>\n",
              "    <tr>\n",
              "      <th>3</th>\n",
              "      <td>14</td>\n",
              "      <td>5</td>\n",
              "      <td>0</td>\n",
              "      <td>1</td>\n",
              "      <td>0</td>\n",
              "      <td>0</td>\n",
              "      <td>0</td>\n",
              "      <td>2</td>\n",
              "      <td>18</td>\n",
              "      <td>5</td>\n",
              "      <td>6</td>\n",
              "      <td>13</td>\n",
              "    </tr>\n",
              "  </tbody>\n",
              "</table>\n",
              "</div>"
            ],
            "text/plain": [
              "   골프장  낚시터  놀이시설  놀이시설  레프팅  레프팅  볼링장  스키장  실내골프  체험장  캠핑장  헬스스포츠\n",
              "3   14    5     0     1    0    0    0    2    18    5    6     13"
            ]
          },
          "execution_count": 258,
          "metadata": {},
          "output_type": "execute_result"
        }
      ],
      "source": [
        "prefer3=example[['골프장', '낚시터', '놀이시설', '레프팅', '볼링장', '스키장', '실내골프', '체험장', '캠핑장', '헬스스포츠']]\n",
        "prefer3"
      ]
    },
    {
      "cell_type": "code",
      "execution_count": null,
      "metadata": {
        "id": "2b3ce7af",
        "outputId": "f63c1dc8-84c8-40a2-e3e7-717b5ffdbef7"
      },
      "outputs": [
        {
          "data": {
            "text/html": [
              "<div>\n",
              "<style scoped>\n",
              "    .dataframe tbody tr th:only-of-type {\n",
              "        vertical-align: middle;\n",
              "    }\n",
              "\n",
              "    .dataframe tbody tr th {\n",
              "        vertical-align: top;\n",
              "    }\n",
              "\n",
              "    .dataframe thead th {\n",
              "        text-align: right;\n",
              "    }\n",
              "</style>\n",
              "<table border=\"1\" class=\"dataframe\">\n",
              "  <thead>\n",
              "    <tr style=\"text-align: right;\">\n",
              "      <th></th>\n",
              "      <th>고궁</th>\n",
              "      <th>공연장</th>\n",
              "      <th>관광지</th>\n",
              "      <th>국립공원</th>\n",
              "      <th>놀이시설</th>\n",
              "      <th>놀이시설</th>\n",
              "      <th>동물원</th>\n",
              "      <th>레프팅</th>\n",
              "      <th>레프팅</th>\n",
              "      <th>미술관</th>\n",
              "      <th>박물관</th>\n",
              "      <th>식물원</th>\n",
              "      <th>자연휴양림</th>\n",
              "    </tr>\n",
              "  </thead>\n",
              "  <tbody>\n",
              "    <tr>\n",
              "      <th>3</th>\n",
              "      <td>0</td>\n",
              "      <td>14</td>\n",
              "      <td>2</td>\n",
              "      <td>2</td>\n",
              "      <td>0</td>\n",
              "      <td>1</td>\n",
              "      <td>0</td>\n",
              "      <td>0</td>\n",
              "      <td>0</td>\n",
              "      <td>2</td>\n",
              "      <td>159</td>\n",
              "      <td>2</td>\n",
              "      <td>0</td>\n",
              "    </tr>\n",
              "  </tbody>\n",
              "</table>\n",
              "</div>"
            ],
            "text/plain": [
              "   고궁  공연장  관광지  국립공원  놀이시설  놀이시설  동물원  레프팅  레프팅  미술관  박물관  식물원  자연휴양림\n",
              "3   0   14    2     2     0     1    0    0    0    2  159    2      0"
            ]
          },
          "execution_count": 259,
          "metadata": {},
          "output_type": "execute_result"
        }
      ],
      "source": [
        "prefer2"
      ]
    },
    {
      "cell_type": "code",
      "execution_count": null,
      "metadata": {
        "id": "e7b64e3f",
        "outputId": "e735b57f-de34-44a1-eb08-9d36988865ea"
      },
      "outputs": [
        {
          "data": {
            "text/html": [
              "<div>\n",
              "<style scoped>\n",
              "    .dataframe tbody tr th:only-of-type {\n",
              "        vertical-align: middle;\n",
              "    }\n",
              "\n",
              "    .dataframe tbody tr th {\n",
              "        vertical-align: top;\n",
              "    }\n",
              "\n",
              "    .dataframe thead th {\n",
              "        text-align: right;\n",
              "    }\n",
              "</style>\n",
              "<table border=\"1\" class=\"dataframe\">\n",
              "  <thead>\n",
              "    <tr style=\"text-align: right;\">\n",
              "      <th></th>\n",
              "      <th>골프장</th>\n",
              "      <th>낚시터</th>\n",
              "      <th>놀이시설</th>\n",
              "      <th>놀이시설</th>\n",
              "      <th>레프팅</th>\n",
              "      <th>레프팅</th>\n",
              "      <th>볼링장</th>\n",
              "      <th>스키장</th>\n",
              "      <th>실내골프</th>\n",
              "      <th>체험장</th>\n",
              "      <th>캠핑장</th>\n",
              "      <th>헬스스포츠</th>\n",
              "    </tr>\n",
              "  </thead>\n",
              "  <tbody>\n",
              "    <tr>\n",
              "      <th>3</th>\n",
              "      <td>14</td>\n",
              "      <td>5</td>\n",
              "      <td>0</td>\n",
              "      <td>1</td>\n",
              "      <td>0</td>\n",
              "      <td>0</td>\n",
              "      <td>0</td>\n",
              "      <td>2</td>\n",
              "      <td>18</td>\n",
              "      <td>5</td>\n",
              "      <td>6</td>\n",
              "      <td>13</td>\n",
              "    </tr>\n",
              "  </tbody>\n",
              "</table>\n",
              "</div>"
            ],
            "text/plain": [
              "   골프장  낚시터  놀이시설  놀이시설  레프팅  레프팅  볼링장  스키장  실내골프  체험장  캠핑장  헬스스포츠\n",
              "3   14    5     0     1    0    0    0    2    18    5    6     13"
            ]
          },
          "execution_count": 260,
          "metadata": {},
          "output_type": "execute_result"
        }
      ],
      "source": [
        "prefer3"
      ]
    },
    {
      "cell_type": "code",
      "execution_count": null,
      "metadata": {
        "id": "45b5597b"
      },
      "outputs": [],
      "source": [
        "label1=prefer.columns.to_list()\n",
        "value1=prefer.iloc[0].to_list()\n",
        "\n",
        "label2=prefer2.columns.to_list()\n",
        "value2=prefer2.iloc[0].to_list()\n",
        "\n",
        "label3=prefer3.columns.to_list()\n",
        "value3=prefer3.iloc[0].to_list()"
      ]
    },
    {
      "cell_type": "code",
      "execution_count": null,
      "metadata": {
        "id": "bb453d56",
        "outputId": "33f17b51-64ed-453f-d639-a64ff042bb39"
      },
      "outputs": [
        {
          "data": {
            "image/png": "[encoded data removed]",
            "text/plain": [
              "<Figure size 432x720 with 3 Axes>"
            ]
          },
          "metadata": {
            "needs_background": "light"
          },
          "output_type": "display_data"
        }
      ],
      "source": [
        "fig=plt.figure(figsize=(6, 10))\n",
        "\n",
        "plt.subplot(3,1,1)\n",
        "plt.barh(label1, value1)\n",
        "plt.title(\"선호 쇼핑 공간\")\n",
        "\n",
        "plt.subplot(3,1,2)\n",
        "plt.barh(label2, value2,color='lightgreen')\n",
        "plt.title(\"선호 관광지\")\n",
        "\n",
        "plt.subplot(3,1,3)\n",
        "f=plt.barh(label3, value3,color=\"lightpink\")\n",
        "\n",
        "fig.tight_layout()\n",
        "plt.title(\"선호 레저\")\n",
        "plt.show()"
      ]
    }
  ]
}